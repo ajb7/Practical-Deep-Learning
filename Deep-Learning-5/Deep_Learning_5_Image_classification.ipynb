﻿{
  "nbformat": 4,
  "nbformat_minor": 0,
  "metadata": {
    "colab": {
      "name": "Deep Learning 5 - Image classification",
      "version": "0.3.2",
      "provenance": [],
      "collapsed_sections": []
    },
    "kernelspec": {
      "name": "python3",
      "display_name": "Python 3"
    }
  },
  "cells": [
    {
      "cell_type": "code",
      "metadata": {
        "id": "k_0eoM5NN6zs",
        "colab_type": "code",
        "colab": {}
      },
      "source": [
        "#from google.colab import files\n",
        "#files.upload()"
      ],
      "execution_count": 0,
      "outputs": []
    },
    {
      "cell_type": "code",
      "metadata": {
        "id": "TNnR22E7OHrs",
        "colab_type": "code",
        "colab": {}
      },
      "source": [
        "# !ls -lha kaggle.json\n",
        "# !pip install -q kaggle\n",
        "# !mkdir -p ~/.kaggle\n",
        "# !cp kaggle.json ~/.kaggle/\n",
        "# !chmod 600 ~/.kaggle/kaggle.json\n",
        "# !kaggle datasets list -s Dogs\n",
        "# !kaggle competitions download -c dogs-vs-cats"
      ],
      "execution_count": 0,
      "outputs": []
    },
    {
      "cell_type": "markdown",
      "metadata": {
        "id": "1fybS4jyUVjf",
        "colab_type": "text"
      },
      "source": [
        "# Deep Learning with Keras and Tensorflow\n",
        "\n",
        "\n",
        "---\n",
        "\n",
        "\n",
        "\n",
        "\n",
        "**#4. MNIST Image Classification: CNN**\n",
        "\n",
        "Our goal is to train model from scratch using a very small dataset. We will eventually classify images of cats and dogs. Dataset has 4000 pictures of cats and dogs (2000 each). We use 2000 for training, 1000 for validation and 1000 for testing.\n",
        "\n",
        "###Strategy\n",
        "\n",
        "We start by naively training a covenet of 2000 samples without any regularization to set a baseline of what can be achieved. Then we introduce data-augementation for mitigating overfitting in computer vision. Later we introduce 2 more techniques for applying deep learning to small datasets:\n",
        "\n",
        "- feature extraction with pretrained network\n",
        "- fine-tuning a pretrained network\n",
        "\n",
        "##Step 1. Install libraries and split data\n",
        "\n",
        "The data is downloaded from Kaggle Dog vs Cat competition. It contains 25000 images of cats and dogs (12500 from each class).\n",
        "- We download and unzip the images on drive\n",
        "- Create a new dataset containing 3 subsets: a training set with 1000 samples of each class, validation set with 500 samples of each class and test set with 500 samples of each class\n",
        "- Hence in total we have 2000+1000+1000 = 4000 samples\n",
        "- We create separate directories for Training, Validation, Test\n",
        "- Under each directory, we have separate directories for cat and dog (each class)\n",
        "- From our original dataset of 4000 cats & dogs images, we move 1000 to training cat, 1000 to training dog, 500 to validation cat, 500 to validation dog, 500 to test cat, 500 to test dog \n"
      ]
    },
    {
      "cell_type": "code",
      "metadata": {
        "id": "IoMnE3uKUupD",
        "colab_type": "code",
        "outputId": "20f2d4e4-554a-4d6c-a1b3-52ce32588a94",
        "colab": {
          "base_uri": "https://localhost:8080/",
          "height": 210
        }
      },
      "source": [
        "!wget --no-check-certificate \\\n",
        "    https://storage.googleapis.com/mledu-datasets/cats_and_dogs_filtered.zip \\\n",
        "    -O /tmp/cats_and_dog.zip"
      ],
      "execution_count": 1,
      "outputs": [
        {
          "output_type": "stream",
          "text": [
            "--2019-09-06 09:46:49--  https://storage.googleapis.com/mledu-datasets/cats_and_dogs_filtered.zip\n",
            "Resolving storage.googleapis.com (storage.googleapis.com)... 74.125.141.128, 2607:f8b0:400c:c06::80\n",
            "Connecting to storage.googleapis.com (storage.googleapis.com)|74.125.141.128|:443... connected.\n",
            "HTTP request sent, awaiting response... 200 OK\n",
            "Length: 68606236 (65M) [application/zip]\n",
            "Saving to: ‘/tmp/cats_and_dog.zip’\n",
            "\n",
            "/tmp/cats_and_dog.z 100%[===================>]  65.43M   107MB/s    in 0.6s    \n",
            "\n",
            "2019-09-06 09:46:50 (107 MB/s) - ‘/tmp/cats_and_dog.zip’ saved [68606236/68606236]\n",
            "\n"
          ],
          "name": "stdout"
        }
      ]
    },
    {
      "cell_type": "code",
      "metadata": {
        "id": "WWEjSmMsU1tf",
        "colab_type": "code",
        "colab": {}
      },
      "source": [
        "import os, shutil\n",
        "import zipfile\n",
        "\n",
        "local_zip = '/tmp/cats_and_dog.zip'\n",
        "zip_ref = zipfile.ZipFile(local_zip, 'r')\n",
        "zip_ref.extractall('/tmp')\n",
        "zip_ref.close()"
      ],
      "execution_count": 0,
      "outputs": []
    },
    {
      "cell_type": "code",
      "metadata": {
        "id": "vBPpn1cpVQuK",
        "colab_type": "code",
        "colab": {}
      },
      "source": [
        "base_dir = '/tmp/cats_and_dogs_filtered'\n",
        "train_dir = os.path.join(base_dir, 'train')\n",
        "validation_dir = os.path.join(base_dir, 'validation')\n",
        "test_dir = os.path.join(base_dir, 'test')\n",
        "\n",
        "# Directory with our training cat pictures\n",
        "train_cats_dir = os.path.join(train_dir, 'cats')\n",
        "\n",
        "# Directory with our training dog pictures\n",
        "train_dogs_dir = os.path.join(train_dir, 'dogs')\n",
        "\n",
        "# Directory with our validation cat pictures\n",
        "validation_cats_dir = os.path.join(validation_dir, 'cats')\n",
        "\n",
        "# Directory with our validation dog pictures\n",
        "validation_dogs_dir = os.path.join(validation_dir, 'dogs')\n",
        "\n",
        "# Directory with our test cat pictures\n",
        "test_cats_dir = os.path.join(test_dir, 'cats')\n",
        "\n",
        "# Directory with our test dog pictures\n",
        "test_dogs_dir = os.path.join(test_dir, 'dogs')\n",
        "\n",
        "os.mkdir(test_dir)\n",
        "os.mkdir(test_cats_dir)\n",
        "os.mkdir(test_dogs_dir)"
      ],
      "execution_count": 0,
      "outputs": []
    },
    {
      "cell_type": "code",
      "metadata": {
        "id": "jrFafD0tU4Hg",
        "colab_type": "code",
        "colab": {}
      },
      "source": [
        "\n",
        "testCatNames = ['cat.{}.jpg'.format(i) for i in range(2000,2250)]\n",
        "testDogNames = ['dog.{}.jpg'.format(i) for i in range(2000,2250)]\n",
        "for fname in testCatNames:\n",
        "  src = os.path.join(base_dir,'validation/cats/{}'.format(fname))\n",
        "  dest = os.path.join(test_cats_dir, fname)\n",
        "  shutil.move(src,dest)\n",
        "\n",
        "for fname in testDogNames:\n",
        "  src = os.path.join(base_dir,'validation/dogs/{}'.format(fname))\n",
        "  dest = os.path.join(test_dogs_dir, fname)\n",
        "  shutil.move(src,dest)"
      ],
      "execution_count": 0,
      "outputs": []
    },
    {
      "cell_type": "code",
      "metadata": {
        "id": "pQdO9jm8ZW2X",
        "colab_type": "code",
        "outputId": "be62d51a-5990-4c96-ae07-6c1f006692ae",
        "colab": {
          "base_uri": "https://localhost:8080/",
          "height": 122
        }
      },
      "source": [
        "#!rm -rf /tmp/cats_and_dogs_filtered\n",
        "print(\"Number of training cat images\", len(os.listdir(train_cats_dir)))\n",
        "print(\"Number of training dog images\", len(os.listdir(train_dogs_dir)))\n",
        "print(\"Number of test cat images\", len(os.listdir(test_cats_dir)))\n",
        "print(\"Number of test dog images\",len(os.listdir(test_dogs_dir)))\n",
        "print(\"Number of validation cat images\", len(os.listdir(validation_cats_dir)))\n",
        "print(\"Number of validation dog images\", len(os.listdir(validation_dogs_dir)))"
      ],
      "execution_count": 5,
      "outputs": [
        {
          "output_type": "stream",
          "text": [
            "Number of training cat images 1000\n",
            "Number of training dog images 1000\n",
            "Number of test cat images 250\n",
            "Number of test dog images 250\n",
            "Number of validation cat images 250\n",
            "Number of validation dog images 250\n"
          ],
          "name": "stdout"
        }
      ]
    },
    {
      "cell_type": "markdown",
      "metadata": {
        "id": "tmlS0wLTlSC3",
        "colab_type": "text"
      },
      "source": [
        "Usually the general structure that we use have alternated Conv2D (with relu activation) and MaxPooling2D layers. However because we are dealing with bigger images and a more complex problem, we make our network larger. It will have one extra Conv2D + MaxPooling2D layer. This will reduce the size of feature map so they are not overly large when we reach the Flatten Layer.\n",
        "\n",
        "Here we start with 150x150 size and reach 7x7 just before we flatten layer.\n",
        "The depth of feature map progressively increases in the network from 32 to 128, while size of feature map decreases from 148x148 to 7x7.\n",
        "\n",
        "As the problem is a binary classification problem, we will end the network with a single unit (a Dense layer of 1 unit) and sigmoid activation.\n",
        "\n",
        "We use `RMSprop` as an optimizer and `binary_crossentropy` as the loss as we ended network with a single unit.\n"
      ]
    },
    {
      "cell_type": "code",
      "metadata": {
        "id": "nMhkzaNvk49Y",
        "colab_type": "code",
        "outputId": "169f033f-7739-46b4-baf8-c632c076af82",
        "colab": {
          "base_uri": "https://localhost:8080/",
          "height": 213
        }
      },
      "source": [
        "from keras import layers\n",
        "from keras import models\n",
        "\n",
        "model = models.Sequential()\n",
        "model.add(layers.Conv2D(32, (3,3), activation='relu', input_shape=(150,150,3)))\n",
        "model.add(layers.MaxPooling2D(2,2))\n",
        "model.add(layers.Conv2D(64, (3,3), activation='relu'))\n",
        "model.add(layers.MaxPooling2D(2,2))\n",
        "model.add(layers.Conv2D(128, (3,3), activation='relu'))\n",
        "model.add(layers.MaxPooling2D(2,2))\n",
        "model.add(layers.Conv2D(128, (3,3), activation='relu'))\n",
        "model.add(layers.MaxPooling2D(2,2))\n",
        "model.add(layers.Flatten())\n",
        "model.add(layers.Dense(512, activation='relu'))\n",
        "model.add(layers.Dense(1, activation='sigmoid'))"
      ],
      "execution_count": 6,
      "outputs": [
        {
          "output_type": "stream",
          "text": [
            "Using TensorFlow backend.\n",
            "WARNING: Logging before flag parsing goes to stderr.\n",
            "W0906 10:37:08.197271 139951363966848 deprecation_wrapper.py:119] From /usr/local/lib/python3.6/dist-packages/keras/backend/tensorflow_backend.py:66: The name tf.get_default_graph is deprecated. Please use tf.compat.v1.get_default_graph instead.\n",
            "\n",
            "W0906 10:37:08.258161 139951363966848 deprecation_wrapper.py:119] From /usr/local/lib/python3.6/dist-packages/keras/backend/tensorflow_backend.py:541: The name tf.placeholder is deprecated. Please use tf.compat.v1.placeholder instead.\n",
            "\n",
            "W0906 10:37:08.271428 139951363966848 deprecation_wrapper.py:119] From /usr/local/lib/python3.6/dist-packages/keras/backend/tensorflow_backend.py:4432: The name tf.random_uniform is deprecated. Please use tf.random.uniform instead.\n",
            "\n",
            "W0906 10:37:08.326254 139951363966848 deprecation_wrapper.py:119] From /usr/local/lib/python3.6/dist-packages/keras/backend/tensorflow_backend.py:4267: The name tf.nn.max_pool is deprecated. Please use tf.nn.max_pool2d instead.\n",
            "\n"
          ],
          "name": "stderr"
        }
      ]
    },
    {
      "cell_type": "code",
      "metadata": {
        "id": "sJcVTKkupWpx",
        "colab_type": "code",
        "colab": {
          "base_uri": "https://localhost:8080/",
          "height": 160
        },
        "outputId": "d7d27626-f789-4b3e-d686-a7652b8b44be"
      },
      "source": [
        "from keras import optimizers\n",
        "model.compile(loss='binary_crossentropy', optimizer=optimizers.RMSprop(lr=1e-4), metrics=['acc'])"
      ],
      "execution_count": 8,
      "outputs": [
        {
          "output_type": "stream",
          "text": [
            "W0906 10:40:56.035501 139951363966848 deprecation_wrapper.py:119] From /usr/local/lib/python3.6/dist-packages/keras/optimizers.py:793: The name tf.train.Optimizer is deprecated. Please use tf.compat.v1.train.Optimizer instead.\n",
            "\n",
            "W0906 10:40:56.044796 139951363966848 deprecation_wrapper.py:119] From /usr/local/lib/python3.6/dist-packages/keras/backend/tensorflow_backend.py:3657: The name tf.log is deprecated. Please use tf.math.log instead.\n",
            "\n",
            "W0906 10:40:56.051190 139951363966848 deprecation.py:323] From /usr/local/lib/python3.6/dist-packages/tensorflow/python/ops/nn_impl.py:180: add_dispatch_support.<locals>.wrapper (from tensorflow.python.ops.array_ops) is deprecated and will be removed in a future version.\n",
            "Instructions for updating:\n",
            "Use tf.where in 2.0, which has the same broadcast rule as np.where\n"
          ],
          "name": "stderr"
        }
      ]
    },
    {
      "cell_type": "markdown",
      "metadata": {
        "id": "XEK9riv2ySWP",
        "colab_type": "text"
      },
      "source": [
        "### Data Preprocessing\n",
        "\n",
        "Data should be formatted appropriately into floating point tensors before being fed into a neural network. Currently the data exists as a JPEG file. Steps to preprocess such data are:\n",
        "\n",
        "- Read the picture files\n",
        "- Decode JPEG files into RGB grids of pixels\n",
        "- Convert these into floating point tensors\n",
        "- Rescale the pixel values from [0,255] to [0,1]\n",
        "\n",
        "The above steps can be done by using image-processing module Keras uses. It uses ImageDataGenerator, which quickly can automatically turn image files on disk batches into tensors."
      ]
    },
    {
      "cell_type": "code",
      "metadata": {
        "id": "-OO7A4JS0IgL",
        "colab_type": "code",
        "colab": {
          "base_uri": "https://localhost:8080/",
          "height": 70
        },
        "outputId": "5f04d6e4-d6be-4d75-c581-bffe1da59f38"
      },
      "source": [
        "from keras.preprocessing.image import ImageDataGenerator\n",
        "\n",
        "train_datagen = ImageDataGenerator(rescale=1./255)\n",
        "validation_datagen = ImageDataGenerator(rescale=1./255)\n",
        "test_datagen = ImageDataGenerator(rescale=1./255)\n",
        "\n",
        "train_generator = train_datagen.flow_from_directory(\n",
        "train_dir,\n",
        "target_size=(150,150),\n",
        "batch_size=20,\n",
        "class_mode='binary')\n",
        "\n",
        "validation_generator = validation_datagen.flow_from_directory(\n",
        "validation_dir,\n",
        "target_size=(150,150),\n",
        "batch_size=20,\n",
        "class_mode='binary')\n",
        "\n",
        "\n",
        "test_generator = test_datagen.flow_from_directory(\n",
        "test_dir,\n",
        "target_size=(150,150),\n",
        "batch_size=20,\n",
        "class_mode='binary')"
      ],
      "execution_count": 9,
      "outputs": [
        {
          "output_type": "stream",
          "text": [
            "Found 2000 images belonging to 2 classes.\n",
            "Found 500 images belonging to 2 classes.\n",
            "Found 500 images belonging to 2 classes.\n"
          ],
          "name": "stdout"
        }
      ]
    },
    {
      "cell_type": "markdown",
      "metadata": {
        "id": "72vAs6a8XzYR",
        "colab_type": "text"
      },
      "source": [
        "The output yields a batch of 150x150 RGB images of shape (20, 150,150, 3), 20 being the sample size in each batch. The binary labels of size (20,)\n",
        "\n",
        "Next we fit the model by using fit_generator() method. It expects as its first argument a Python Generator that will yield batches of inputs and targets indefinitely. We also have **steps_per_epoch** to let the model know when 1 epoch has finised. In our case, as the number of samples in each batch are 20 and we have 2000 samples, hence it will take 100 batches to count for 1 epoch.\n",
        "\n",
        "You can also pass **validation_data** argument.**validation_steps** tells the process how many batches to draw from the validation generator for evaluation."
      ]
    },
    {
      "cell_type": "code",
      "metadata": {
        "id": "7RsHwOF-ZfPN",
        "colab_type": "code",
        "colab": {
          "base_uri": "https://localhost:8080/",
          "height": 776
        },
        "outputId": "0523f7b7-db1e-452b-d092-f3c174aa8386"
      },
      "source": [
        "history=model.fit_generator(\n",
        "train_generator,\n",
        "steps_per_epoch=100,\n",
        "epochs=20,\n",
        "validation_data=validation_generator,\n",
        "validation_steps=50)"
      ],
      "execution_count": 10,
      "outputs": [
        {
          "output_type": "stream",
          "text": [
            "W0906 10:42:04.091457 139951363966848 deprecation_wrapper.py:119] From /usr/local/lib/python3.6/dist-packages/keras/backend/tensorflow_backend.py:1033: The name tf.assign_add is deprecated. Please use tf.compat.v1.assign_add instead.\n",
            "\n"
          ],
          "name": "stderr"
        },
        {
          "output_type": "stream",
          "text": [
            "Epoch 1/20\n",
            "100/100 [==============================] - 109s 1s/step - loss: 0.6926 - acc: 0.5400 - val_loss: 0.6765 - val_acc: 0.5780\n",
            "Epoch 2/20\n",
            "100/100 [==============================] - 108s 1s/step - loss: 0.6649 - acc: 0.6015 - val_loss: 0.6525 - val_acc: 0.6320\n",
            "Epoch 3/20\n",
            "100/100 [==============================] - 108s 1s/step - loss: 0.6264 - acc: 0.6560 - val_loss: 0.6383 - val_acc: 0.6480\n",
            "Epoch 4/20\n",
            "100/100 [==============================] - 108s 1s/step - loss: 0.5790 - acc: 0.6990 - val_loss: 0.6103 - val_acc: 0.6780\n",
            "Epoch 5/20\n",
            "100/100 [==============================] - 109s 1s/step - loss: 0.5317 - acc: 0.7380 - val_loss: 0.6008 - val_acc: 0.6780\n",
            "Epoch 6/20\n",
            "100/100 [==============================] - 108s 1s/step - loss: 0.5125 - acc: 0.7465 - val_loss: 0.5794 - val_acc: 0.7060\n",
            "Epoch 7/20\n",
            "100/100 [==============================] - 108s 1s/step - loss: 0.4800 - acc: 0.7635 - val_loss: 0.5705 - val_acc: 0.7280\n",
            "Epoch 8/20\n",
            "100/100 [==============================] - 108s 1s/step - loss: 0.4521 - acc: 0.7945 - val_loss: 0.5945 - val_acc: 0.7060\n",
            "Epoch 9/20\n",
            "100/100 [==============================] - 108s 1s/step - loss: 0.4194 - acc: 0.8095 - val_loss: 0.6108 - val_acc: 0.6940\n",
            "Epoch 10/20\n",
            "100/100 [==============================] - 108s 1s/step - loss: 0.4051 - acc: 0.8175 - val_loss: 0.5893 - val_acc: 0.7060\n",
            "Epoch 11/20\n",
            "100/100 [==============================] - 110s 1s/step - loss: 0.3664 - acc: 0.8395 - val_loss: 0.6734 - val_acc: 0.6900\n",
            "Epoch 12/20\n",
            "100/100 [==============================] - 111s 1s/step - loss: 0.3476 - acc: 0.8440 - val_loss: 0.6442 - val_acc: 0.7120\n",
            "Epoch 13/20\n",
            "100/100 [==============================] - 111s 1s/step - loss: 0.3241 - acc: 0.8580 - val_loss: 0.5888 - val_acc: 0.7280\n",
            "Epoch 14/20\n",
            "100/100 [==============================] - 111s 1s/step - loss: 0.3002 - acc: 0.8785 - val_loss: 0.6312 - val_acc: 0.7220\n",
            "Epoch 15/20\n",
            "100/100 [==============================] - 110s 1s/step - loss: 0.2799 - acc: 0.8750 - val_loss: 0.5945 - val_acc: 0.7420\n",
            "Epoch 16/20\n",
            "100/100 [==============================] - 111s 1s/step - loss: 0.2586 - acc: 0.8985 - val_loss: 0.7223 - val_acc: 0.6840\n",
            "Epoch 17/20\n",
            "100/100 [==============================] - 112s 1s/step - loss: 0.2362 - acc: 0.9050 - val_loss: 0.6334 - val_acc: 0.7480\n",
            "Epoch 18/20\n",
            "100/100 [==============================] - 111s 1s/step - loss: 0.2105 - acc: 0.9225 - val_loss: 0.6464 - val_acc: 0.7320\n",
            "Epoch 19/20\n",
            "100/100 [==============================] - 111s 1s/step - loss: 0.1846 - acc: 0.9305 - val_loss: 0.6759 - val_acc: 0.7380\n",
            "Epoch 20/20\n",
            "100/100 [==============================] - 111s 1s/step - loss: 0.1703 - acc: 0.9345 - val_loss: 0.7400 - val_acc: 0.7240\n"
          ],
          "name": "stdout"
        }
      ]
    },
    {
      "cell_type": "markdown",
      "metadata": {
        "id": "aQXhNN2TZvPn",
        "colab_type": "text"
      },
      "source": [
        "Now we save our model"
      ]
    },
    {
      "cell_type": "code",
      "metadata": {
        "id": "fHx7sOMDZwuK",
        "colab_type": "code",
        "colab": {}
      },
      "source": [
        "model.save('cats_dogs_1.h5')"
      ],
      "execution_count": 0,
      "outputs": []
    },
    {
      "cell_type": "code",
      "metadata": {
        "id": "ZhwONSHWZ9Ob",
        "colab_type": "code",
        "colab": {
          "base_uri": "https://localhost:8080/",
          "height": 545
        },
        "outputId": "e52d21e4-688b-4fb4-e8c0-fbbb0f3376e3"
      },
      "source": [
        "import matplotlib.pyplot as plt\n",
        "\n",
        "acc = history.history['acc']\n",
        "val_acc = history.history['val_acc']\n",
        "loss = history.history['loss']\n",
        "val_loss = history.history['val_loss']\n",
        "\n",
        "epochs = range(1,len(acc)+1)\n",
        "\n",
        "plt.plot(epochs, acc, 'bo', label=\"Training acc\")\n",
        "plt.plot(epochs, val_acc, 'b', label=\"Validation acc\")\n",
        "plt.title(\"Training and Validation accuracy\")\n",
        "plt.legend()\n",
        "\n",
        "plt.figure()\n",
        "\n",
        "plt.plot(epochs, loss, 'bo', label=\"Training loss\")\n",
        "plt.plot(epochs, val_loss, 'b', label=\"Validation loss\")\n",
        "plt.title(\"Training and validation loss\")\n",
        "plt.legend()\n",
        "\n",
        "plt.show()"
      ],
      "execution_count": 14,
      "outputs": [
        {
          "output_type": "display_data",
          "data": {
            "image/png": "[encoded data removed]",
            "text/plain": [
              "<Figure size 432x288 with 1 Axes>"
            ]
          },
          "metadata": {
            "tags": []
          }
        },
        {
          "output_type": "display_data",
          "data": {
            "image/png": "[encoded data removed]",
            "text/plain": [
              "<Figure size 432x288 with 1 Axes>"
            ]
          },
          "metadata": {
            "tags": []
          }
        }
      ]
    },
    {
      "cell_type": "markdown",
      "metadata": {
        "id": "ZIfuArTVe5jM",
        "colab_type": "text"
      },
      "source": [
        "The plots indicate overfitting. The training accuracy increases linearly with time and reaches close to 100% while validation accuracy is maxed out at 72%. Similarly training loss increases linearly while validation loss can be found best after 5 epochs.\n",
        "\n",
        "The overfitting exists because of very few training samples in the dataset. We will use **data augementation** as the technique to counter this issue, which is generally used for computer-vision specific problems.\n",
        "\n",
        "## Data Augmentation\n",
        "It takes approach of generating more training data from sample dataset, by augementing the samples via various random transformations that yield believable-looking images. The goal is that at the training, no 2 pictures will be same.\n",
        "\n",
        "In Keras this can be done by using **ImageDataGenerator**. Following are the arguments:\n",
        "- rotation_range: is a value between 0 -180 degrees, in which to randomly rotate images\n",
        "- width_shift, height_shift: is a range within which to randomly translate picture vertically or horizontally\n",
        "- shear_range: is for randomly applying shearing transformations\n",
        "- zoom_range: is for randomly zooming inside pictures\n",
        "- horizontal_flip: is for randomly flipping half the image horizontally\n",
        "- fill_mode: is the strategy used for filling in newly created pixels, which might have been created due to transformations\n",
        "\n",
        "To further counter the overfitting, we add a dropout layer in our model just before densley connected classifier.\n",
        "\n",
        "### What is Dropout Layer?\n",
        "\n",
        "In machine learning, regularization is way to prevent over-fitting. Regularization reduces over-fitting by adding a penalty to the loss function. By adding this penalty, the model is trained such that it does not learn interdependent set of features weights. Those of you who know Logistic Regression might be familiar with L1 (Laplacian) and L2 (Gaussian) penalties.\n",
        "\n",
        "Dropout is an approach to regularization in neural networks which helps reducing interdependent learning amongst the neurons.\n",
        "\n",
        "Dropout refers to ignoring units (i.e. neurons) during the training phase of certain set of neurons which is chosen at random. That is, these units are not considered during a particular forward or backward pass. In passing 0.5, every hidden unit (neuron) is set to 0 with a probability of 0.5. In other words, there’s a 50% change that the output of a given neuron will be forced to 0."
      ]
    },
    {
      "cell_type": "code",
      "metadata": {
        "id": "uviTeejVm_c8",
        "colab_type": "code",
        "colab": {
          "base_uri": "https://localhost:8080/",
          "height": 90
        },
        "outputId": "74faa065-5b87-481b-e644-b39892073486"
      },
      "source": [
        "model_dropout = models.Sequential()\n",
        "model_dropout.add(layers.Conv2D(32, (3,3), activation='relu', input_shape=(150,150,3)))\n",
        "model_dropout.add(layers.MaxPooling2D(2,2))\n",
        "model_dropout.add(layers.Conv2D(64, (3,3), activation='relu'))\n",
        "model_dropout.add(layers.MaxPooling2D(2,2))\n",
        "model_dropout.add(layers.Conv2D(128, (3,3), activation='relu'))\n",
        "model_dropout.add(layers.MaxPooling2D(2,2))\n",
        "model_dropout.add(layers.Conv2D(128, (3,3), activation='relu'))\n",
        "model_dropout.add(layers.MaxPooling2D(2,2))\n",
        "model_dropout.add(layers.Flatten())\n",
        "model_dropout.add(layers.Dropout(0.5))\n",
        "model_dropout.add(layers.Dense(512, activation='relu'))\n",
        "model_dropout.add(layers.Dense(1, activation='sigmoid'))\n",
        "\n",
        "model_dropout.compile(loss='binary_crossentropy', optimizer=optimizers.RMSprop(lr=1e-4), metrics=['acc'])"
      ],
      "execution_count": 15,
      "outputs": [
        {
          "output_type": "stream",
          "text": [
            "W0906 11:25:33.714288 139951363966848 deprecation.py:506] From /usr/local/lib/python3.6/dist-packages/keras/backend/tensorflow_backend.py:3733: calling dropout (from tensorflow.python.ops.nn_ops) with keep_prob is deprecated and will be removed in a future version.\n",
            "Instructions for updating:\n",
            "Please use `rate` instead of `keep_prob`. Rate should be set to `rate = 1 - keep_prob`.\n"
          ],
          "name": "stderr"
        }
      ]
    },
    {
      "cell_type": "markdown",
      "metadata": {
        "id": "oO1eNt36ppzi",
        "colab_type": "text"
      },
      "source": [
        "Let's train the network now using dropout and data augementation."
      ]
    },
    {
      "cell_type": "code",
      "metadata": {
        "id": "kzI61-m2puR6",
        "colab_type": "code",
        "colab": {
          "base_uri": "https://localhost:8080/",
          "height": 1000
        },
        "outputId": "e0c0f590-1181-4355-84c8-f78c2891a1b2"
      },
      "source": [
        "train_datagen = ImageDataGenerator(rescale=1./255,\n",
        "                                  rotation_range=40,\n",
        "                                  width_shift_range=0.2,\n",
        "                                  height_shift_range=0.2,\n",
        "                                  shear_range=0.2,\n",
        "                                  zoom_range=0.2,\n",
        "                                  horizontal_flip=True)\n",
        "\n",
        "\n",
        "train_generator = train_datagen.flow_from_directory(\n",
        "train_dir,\n",
        "target_size=(150,150),\n",
        "batch_size=20,\n",
        "class_mode='binary')\n",
        "\n",
        "history=model_dropout.fit_generator(\n",
        "train_generator,\n",
        "steps_per_epoch=100,\n",
        "epochs=30,\n",
        "validation_data=validation_generator,\n",
        "validation_steps=50)"
      ],
      "execution_count": 16,
      "outputs": [
        {
          "output_type": "stream",
          "text": [
            "Found 2000 images belonging to 2 classes.\n",
            "Epoch 1/30\n",
            "100/100 [==============================] - 127s 1s/step - loss: 0.6984 - acc: 0.5125 - val_loss: 0.6874 - val_acc: 0.5060\n",
            "Epoch 2/30\n",
            "100/100 [==============================] - 123s 1s/step - loss: 0.6876 - acc: 0.5405 - val_loss: 0.7106 - val_acc: 0.5020\n",
            "Epoch 3/30\n",
            "100/100 [==============================] - 122s 1s/step - loss: 0.6779 - acc: 0.5610 - val_loss: 0.6659 - val_acc: 0.5460\n",
            "Epoch 4/30\n",
            "100/100 [==============================] - 118s 1s/step - loss: 0.6670 - acc: 0.5790 - val_loss: 0.6517 - val_acc: 0.5880\n",
            "Epoch 5/30\n",
            "100/100 [==============================] - 122s 1s/step - loss: 0.6522 - acc: 0.6055 - val_loss: 0.6440 - val_acc: 0.6140\n",
            "Epoch 6/30\n",
            "100/100 [==============================] - 120s 1s/step - loss: 0.6419 - acc: 0.6125 - val_loss: 0.6387 - val_acc: 0.6000\n",
            "Epoch 7/30\n",
            "100/100 [==============================] - 122s 1s/step - loss: 0.6294 - acc: 0.6255 - val_loss: 0.6087 - val_acc: 0.6720\n",
            "Epoch 8/30\n",
            "100/100 [==============================] - 124s 1s/step - loss: 0.6150 - acc: 0.6570 - val_loss: 0.5878 - val_acc: 0.6680\n",
            "Epoch 9/30\n",
            "100/100 [==============================] - 125s 1s/step - loss: 0.6105 - acc: 0.6660 - val_loss: 0.5806 - val_acc: 0.7000\n",
            "Epoch 10/30\n",
            "100/100 [==============================] - 126s 1s/step - loss: 0.5992 - acc: 0.6790 - val_loss: 0.5875 - val_acc: 0.6660\n",
            "Epoch 11/30\n",
            "100/100 [==============================] - 124s 1s/step - loss: 0.6042 - acc: 0.6730 - val_loss: 0.5858 - val_acc: 0.6640\n",
            "Epoch 12/30\n",
            "100/100 [==============================] - 125s 1s/step - loss: 0.5920 - acc: 0.6725 - val_loss: 0.5826 - val_acc: 0.6980\n",
            "Epoch 13/30\n",
            "100/100 [==============================] - 125s 1s/step - loss: 0.5890 - acc: 0.6850 - val_loss: 0.5782 - val_acc: 0.6880\n",
            "Epoch 14/30\n",
            "100/100 [==============================] - 125s 1s/step - loss: 0.5890 - acc: 0.6845 - val_loss: 0.5571 - val_acc: 0.7100\n",
            "Epoch 15/30\n",
            "100/100 [==============================] - 126s 1s/step - loss: 0.5776 - acc: 0.6830 - val_loss: 0.5681 - val_acc: 0.6900\n",
            "Epoch 16/30\n",
            "100/100 [==============================] - 126s 1s/step - loss: 0.5825 - acc: 0.6935 - val_loss: 0.5550 - val_acc: 0.6940\n",
            "Epoch 17/30\n",
            "100/100 [==============================] - 126s 1s/step - loss: 0.5626 - acc: 0.7090 - val_loss: 0.5473 - val_acc: 0.7040\n",
            "Epoch 18/30\n",
            "100/100 [==============================] - 126s 1s/step - loss: 0.5767 - acc: 0.6960 - val_loss: 0.5465 - val_acc: 0.7140\n",
            "Epoch 19/30\n",
            "100/100 [==============================] - 124s 1s/step - loss: 0.5650 - acc: 0.7100 - val_loss: 0.5429 - val_acc: 0.7040\n",
            "Epoch 20/30\n",
            "100/100 [==============================] - 125s 1s/step - loss: 0.5635 - acc: 0.7010 - val_loss: 0.5391 - val_acc: 0.7280\n",
            "Epoch 21/30\n",
            "100/100 [==============================] - 125s 1s/step - loss: 0.5629 - acc: 0.7120 - val_loss: 0.5753 - val_acc: 0.6800\n",
            "Epoch 22/30\n",
            "100/100 [==============================] - 125s 1s/step - loss: 0.5474 - acc: 0.7130 - val_loss: 0.5513 - val_acc: 0.7200\n",
            "Epoch 23/30\n",
            "100/100 [==============================] - 125s 1s/step - loss: 0.5585 - acc: 0.7060 - val_loss: 0.5850 - val_acc: 0.6920\n",
            "Epoch 24/30\n",
            "100/100 [==============================] - 125s 1s/step - loss: 0.5505 - acc: 0.7130 - val_loss: 0.5471 - val_acc: 0.7200\n",
            "Epoch 25/30\n",
            "100/100 [==============================] - 125s 1s/step - loss: 0.5469 - acc: 0.7210 - val_loss: 0.5003 - val_acc: 0.7360\n",
            "Epoch 26/30\n",
            "100/100 [==============================] - 126s 1s/step - loss: 0.5432 - acc: 0.7315 - val_loss: 0.5623 - val_acc: 0.7020\n",
            "Epoch 27/30\n",
            "100/100 [==============================] - 123s 1s/step - loss: 0.5501 - acc: 0.7195 - val_loss: 0.5310 - val_acc: 0.7280\n",
            "Epoch 28/30\n",
            "100/100 [==============================] - 120s 1s/step - loss: 0.5328 - acc: 0.7260 - val_loss: 0.5102 - val_acc: 0.7540\n",
            "Epoch 29/30\n",
            "100/100 [==============================] - 118s 1s/step - loss: 0.5279 - acc: 0.7240 - val_loss: 0.5809 - val_acc: 0.6980\n",
            "Epoch 30/30\n",
            "100/100 [==============================] - 121s 1s/step - loss: 0.5334 - acc: 0.7395 - val_loss: 0.6083 - val_acc: 0.7060\n"
          ],
          "name": "stdout"
        }
      ]
    },
    {
      "cell_type": "code",
      "metadata": {
        "id": "car4WoIUsuux",
        "colab_type": "code",
        "colab": {}
      },
      "source": [
        "model_dropout.save('cats_dogs_2.h5')"
      ],
      "execution_count": 0,
      "outputs": []
    },
    {
      "cell_type": "code",
      "metadata": {
        "id": "J1oyeFS4s43i",
        "colab_type": "code",
        "colab": {
          "base_uri": "https://localhost:8080/",
          "height": 545
        },
        "outputId": "f8e5ed47-2478-457d-ec2d-060659dbff3d"
      },
      "source": [
        "acc_dropout = history.history['acc']\n",
        "val_acc_dropout = history.history['val_acc']\n",
        "loss_dropout = history.history['loss']\n",
        "val_loss_dropout = history.history['val_loss']\n",
        "\n",
        "epochs = range(1,len(acc)+1)\n",
        "\n",
        "plt.plot(epochs, acc_dropout, 'bo', label=\"Training acc\")\n",
        "plt.plot(epochs, val_acc_dropout, 'b', label=\"Validation acc\")\n",
        "plt.title(\"Training and Validation accuracy\")\n",
        "plt.legend()\n",
        "\n",
        "plt.figure()\n",
        "\n",
        "plt.plot(epochs, loss_dropout, 'bo', label=\"Training loss\")\n",
        "plt.plot(epochs, val_loss_dropout, 'b', label=\"Validation loss\")\n",
        "plt.title(\"Training and validation loss\")\n",
        "plt.legend()\n",
        "\n",
        "plt.show()"
      ],
      "execution_count": 19,
      "outputs": [
        {
          "output_type": "display_data",
          "data": {
            "image/png": "[encoded data removed]",
            "text/plain": [
              "<Figure size 432x288 with 1 Axes>"
            ]
          },
          "metadata": {
            "tags": []
          }
        },
        {
          "output_type": "display_data",
          "data": {
            "image/png": "[encoded data removed]",
            "text/plain": [
              "<Figure size 432x288 with 1 Axes>"
            ]
          },
          "metadata": {
            "tags": []
          }
        }
      ]
    },
    {
      "cell_type": "markdown",
      "metadata": {
        "id": "OUDqn3b1jllc",
        "colab_type": "text"
      },
      "source": [
        "As we see, because of **dropout** and **data augmentation** we no longer have over-fitting problem. The training curves are closely following the validation curves. More epochs can most probably improve the accuracy of the model over the non-regularized model. \n",
        "To improve accuracy, we can also fine tune few parameters like number of filters per layer, or number of layers in the network etc. However, it is hard to improve the accuracy significantly because we have limited data. We can use pretrained networks to counter this limitation."
      ]
    }
  ]
}