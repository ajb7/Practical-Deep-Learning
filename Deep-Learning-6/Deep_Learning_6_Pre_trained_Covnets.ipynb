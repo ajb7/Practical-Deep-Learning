﻿{
  "nbformat": 4,
  "nbformat_minor": 0,
  "metadata": {
    "colab": {
      "name": "Deep Learning 6: Pre-trained Covnets",
      "version": "0.3.2",
      "provenance": [],
      "collapsed_sections": []
    },
    "kernelspec": {
      "name": "python3",
      "display_name": "Python 3"
    },
    "accelerator": "GPU"
  },
  "cells": [
    {
      "cell_type": "markdown",
      "metadata": {
        "id": "FoGNvvHNgZSt",
        "colab_type": "text"
      },
      "source": [
        "# Deep Learning with Keras and Tensorflow\n",
        "\n",
        "\n",
        "---\n",
        "\n",
        "\n",
        "### Using Pre-trained Covnets"
      ]
    },
    {
      "cell_type": "markdown",
      "metadata": {
        "id": "9uV9-LpaZNgz",
        "colab_type": "text"
      },
      "source": [
        "A pretrained network is a saved network which was already trained on a large dataset.\n",
        "In this chapter, we will use many already pretrained models, like: VGG, ResNet, Inception, Inception-ResNet, Xception etc.\n",
        "\n",
        "There are 2 ways to use a pretrained network: Feature Extraction and Fine Tuning.\n",
        "\n",
        "### Feature Extraction\n",
        "Feature extraction consists of using representations learned by a previous network to extract interesting features from new samples. These features are then run through a new classifier, which is trained from scratch.\n",
        "\n",
        "A covnet used for image classification consists of 2 parts. It starts with series of pooling and Covnet layers and end with densely connected classifier. The first part is called convolutional base of the model.\n",
        "\n",
        "Feature extraction consists of taking the convolutional base of the previously trained network , running the new data through it and training a new classifier on top of the output.\n",
        "\n",
        "If your dataset differs a lot from the dataset on which the original model was trained, it is better to use first few layers of the model to do the feature extraction, rather than using entire convolutional base. Layers that come earlier in the model, extract local, highly generic features (like color, texture, edges).\n",
        "\n",
        "In order to cover more generic case, where the class set   we will not reuse the Densely connected layer.\n",
        "\n",
        "We will use the convolutional base of VGG16 network, trained on ImageNet, to extract interesting features from cat and dog images and then train a dog-vs-cats classifier on top of these features.\n",
        "\n",
        "**Keras** has packaged multiple pre-trained image classification models, which can be imported.\n",
        "- VGG16\n",
        "- VGG19\n",
        "- ResNet50\n",
        "- Inception V3\n",
        "- Xception\n",
        "- MobileNet\n",
        "\n"
      ]
    },
    {
      "cell_type": "code",
      "metadata": {
        "id": "8x1ZtUSamktS",
        "colab_type": "code",
        "colab": {
          "base_uri": "https://localhost:8080/",
          "height": 301
        },
        "outputId": "b14ece79-8f4e-4548-b46a-634f32106cc1"
      },
      "source": [
        "from keras.applications import VGG16\n",
        "\n",
        "conv_base = VGG16(weights='imagenet',\n",
        "                 include_top=False,\n",
        "                 input_shape=(150,150,3))"
      ],
      "execution_count": 2,
      "outputs": [
        {
          "output_type": "stream",
          "text": [
            "Using TensorFlow backend.\n"
          ],
          "name": "stderr"
        },
        {
          "output_type": "stream",
          "text": [
            "WARNING:tensorflow:From /usr/local/lib/python3.6/dist-packages/keras/backend/tensorflow_backend.py:66: The name tf.get_default_graph is deprecated. Please use tf.compat.v1.get_default_graph instead.\n",
            "\n",
            "WARNING:tensorflow:From /usr/local/lib/python3.6/dist-packages/keras/backend/tensorflow_backend.py:541: The name tf.placeholder is deprecated. Please use tf.compat.v1.placeholder instead.\n",
            "\n",
            "WARNING:tensorflow:From /usr/local/lib/python3.6/dist-packages/keras/backend/tensorflow_backend.py:4432: The name tf.random_uniform is deprecated. Please use tf.random.uniform instead.\n",
            "\n",
            "WARNING:tensorflow:From /usr/local/lib/python3.6/dist-packages/keras/backend/tensorflow_backend.py:4267: The name tf.nn.max_pool is deprecated. Please use tf.nn.max_pool2d instead.\n",
            "\n",
            "Downloading data from https://github.com/fchollet/deep-learning-models/releases/download/v0.1/vgg16_weights_tf_dim_ordering_tf_kernels_notop.h5\n",
            "58892288/58889256 [==============================] - 6s 0us/step\n",
            "WARNING:tensorflow:From /usr/local/lib/python3.6/dist-packages/keras/backend/tensorflow_backend.py:190: The name tf.get_default_session is deprecated. Please use tf.compat.v1.get_default_session instead.\n",
            "\n",
            "WARNING:tensorflow:From /usr/local/lib/python3.6/dist-packages/keras/backend/tensorflow_backend.py:197: The name tf.ConfigProto is deprecated. Please use tf.compat.v1.ConfigProto instead.\n",
            "\n"
          ],
          "name": "stdout"
        }
      ]
    },
    {
      "cell_type": "markdown",
      "metadata": {
        "id": "-2RuuKpUm1zv",
        "colab_type": "text"
      },
      "source": [
        "3 parameters passed are:\n",
        "- weights: the weight checkpoint from which to initialize the model\n",
        "- include_top: whether Densely connected classifier should be included on top of model or not. By default these densely connected layers correspond to 1000 classes from ImageNet.\n",
        "- input_shape: It is optional and if not provided, will process input of any size. It corresponds to the shape of image tensors that are to be fed to the network."
      ]
    },
    {
      "cell_type": "code",
      "metadata": {
        "id": "i0miZiYXnwGA",
        "colab_type": "code",
        "outputId": "8ba2bf96-de4c-4c2b-fe6e-b6b4beed17ef",
        "colab": {
          "base_uri": "https://localhost:8080/",
          "height": 826
        }
      },
      "source": [
        "conv_base.summary()"
      ],
      "execution_count": 3,
      "outputs": [
        {
          "output_type": "stream",
          "text": [
            "Model: \"vgg16\"\n",
            "_________________________________________________________________\n",
            "Layer (type)                 Output Shape              Param #   \n",
            "=================================================================\n",
            "input_1 (InputLayer)         (None, 150, 150, 3)       0         \n",
            "_________________________________________________________________\n",
            "block1_conv1 (Conv2D)        (None, 150, 150, 64)      1792      \n",
            "_________________________________________________________________\n",
            "block1_conv2 (Conv2D)        (None, 150, 150, 64)      36928     \n",
            "_________________________________________________________________\n",
            "block1_pool (MaxPooling2D)   (None, 75, 75, 64)        0         \n",
            "_________________________________________________________________\n",
            "block2_conv1 (Conv2D)        (None, 75, 75, 128)       73856     \n",
            "_________________________________________________________________\n",
            "block2_conv2 (Conv2D)        (None, 75, 75, 128)       147584    \n",
            "_________________________________________________________________\n",
            "block2_pool (MaxPooling2D)   (None, 37, 37, 128)       0         \n",
            "_________________________________________________________________\n",
            "block3_conv1 (Conv2D)        (None, 37, 37, 256)       295168    \n",
            "_________________________________________________________________\n",
            "block3_conv2 (Conv2D)        (None, 37, 37, 256)       590080    \n",
            "_________________________________________________________________\n",
            "block3_conv3 (Conv2D)        (None, 37, 37, 256)       590080    \n",
            "_________________________________________________________________\n",
            "block3_pool (MaxPooling2D)   (None, 18, 18, 256)       0         \n",
            "_________________________________________________________________\n",
            "block4_conv1 (Conv2D)        (None, 18, 18, 512)       1180160   \n",
            "_________________________________________________________________\n",
            "block4_conv2 (Conv2D)        (None, 18, 18, 512)       2359808   \n",
            "_________________________________________________________________\n",
            "block4_conv3 (Conv2D)        (None, 18, 18, 512)       2359808   \n",
            "_________________________________________________________________\n",
            "block4_pool (MaxPooling2D)   (None, 9, 9, 512)         0         \n",
            "_________________________________________________________________\n",
            "block5_conv1 (Conv2D)        (None, 9, 9, 512)         2359808   \n",
            "_________________________________________________________________\n",
            "block5_conv2 (Conv2D)        (None, 9, 9, 512)         2359808   \n",
            "_________________________________________________________________\n",
            "block5_conv3 (Conv2D)        (None, 9, 9, 512)         2359808   \n",
            "_________________________________________________________________\n",
            "block5_pool (MaxPooling2D)   (None, 4, 4, 512)         0         \n",
            "=================================================================\n",
            "Total params: 14,714,688\n",
            "Trainable params: 14,714,688\n",
            "Non-trainable params: 0\n",
            "_________________________________________________________________\n"
          ],
          "name": "stdout"
        }
      ]
    },
    {
      "cell_type": "markdown",
      "metadata": {
        "id": "TkzgB3NkpfD0",
        "colab_type": "text"
      },
      "source": [
        "Now we have 2 approaches to go ahead with.\n",
        "\n",
        "1) Running convolutional base over dataset, recording its output to a Numpy array, and then using this data as input to a standalone, densely connected classifier. It is cheap as it only requires running the convolutional base once for every input image. However this technique does not allow us to do any data augmentation,\n",
        "\n",
        "2) Second approach is to extend the model by adding Dense layers on top and running the whole thing end to end on the input data. This will allow us to use data augementation as every input image goes through the convolutional base every time it is seen by the model. However, this technique is more expensive than first.\n",
        "\n",
        "We use both approaches.\n",
        "\n",
        "### Feature extraction without data augmentation"
      ]
    },
    {
      "cell_type": "code",
      "metadata": {
        "id": "vVEsSXympd22",
        "colab_type": "code",
        "outputId": "cca0e064-a25b-4f0a-b250-0b4c62cc7cf4",
        "colab": {
          "base_uri": "https://localhost:8080/",
          "height": 210
        }
      },
      "source": [
        "!wget --no-check-certificate \\\n",
        "    https://storage.googleapis.com/mledu-datasets/cats_and_dogs_filtered.zip \\\n",
        "    -O /tmp/cats_and_dog.zip"
      ],
      "execution_count": 4,
      "outputs": [
        {
          "output_type": "stream",
          "text": [
            "--2019-09-10 12:56:01--  https://storage.googleapis.com/mledu-datasets/cats_and_dogs_filtered.zip\n",
            "Resolving storage.googleapis.com (storage.googleapis.com)... 172.217.194.128, 2404:6800:4003:c04::80\n",
            "Connecting to storage.googleapis.com (storage.googleapis.com)|172.217.194.128|:443... connected.\n",
            "HTTP request sent, awaiting response... 200 OK\n",
            "Length: 68606236 (65M) [application/zip]\n",
            "Saving to: ‘/tmp/cats_and_dog.zip’\n",
            "\n",
            "/tmp/cats_and_dog.z 100%[===================>]  65.43M  80.1MB/s    in 0.8s    \n",
            "\n",
            "2019-09-10 12:56:02 (80.1 MB/s) - ‘/tmp/cats_and_dog.zip’ saved [68606236/68606236]\n",
            "\n"
          ],
          "name": "stdout"
        }
      ]
    },
    {
      "cell_type": "code",
      "metadata": {
        "id": "pa5iWen8vNJk",
        "colab_type": "code",
        "colab": {}
      },
      "source": [
        "import os, shutil\n",
        "import zipfile\n",
        "\n",
        "local_zip = '/tmp/cats_and_dog.zip'\n",
        "zip_ref = zipfile.ZipFile(local_zip, 'r')\n",
        "zip_ref.extractall('/tmp')\n",
        "zip_ref.close()"
      ],
      "execution_count": 0,
      "outputs": []
    },
    {
      "cell_type": "code",
      "metadata": {
        "id": "iMll3Z7_vROT",
        "colab_type": "code",
        "colab": {}
      },
      "source": [
        "import os\n",
        "import numpy as np\n",
        "from keras.preprocessing.image import ImageDataGenerator\n",
        "\n",
        "base_dir = '/tmp/cats_and_dogs_filtered'\n",
        "train_dir = os.path.join(base_dir, 'train')\n",
        "validation_dir = os.path.join(base_dir, 'validation')\n",
        "test_dir = os.path.join(base_dir, 'test')\n",
        "\n",
        "# Directory with our training cat pictures\n",
        "train_cats_dir = os.path.join(train_dir, 'cats')\n",
        "\n",
        "# Directory with our training dog pictures\n",
        "train_dogs_dir = os.path.join(train_dir, 'dogs')\n",
        "\n",
        "# Directory with our validation cat pictures\n",
        "validation_cats_dir = os.path.join(validation_dir, 'cats')\n",
        "\n",
        "# Directory with our validation dog pictures\n",
        "validation_dogs_dir = os.path.join(validation_dir, 'dogs')\n",
        "\n",
        "# Directory with our test cat pictures\n",
        "test_cats_dir = os.path.join(test_dir, 'cats')\n",
        "\n",
        "# Directory with our test dog pictures\n",
        "test_dogs_dir = os.path.join(test_dir, 'dogs')\n",
        "\n",
        "os.mkdir(test_dir)\n",
        "os.mkdir(test_cats_dir)\n",
        "os.mkdir(test_dogs_dir)\n",
        "\n",
        "testCatNames = ['cat.{}.jpg'.format(i) for i in range(2000,2250)]\n",
        "for fname in testCatNames:\n",
        "  src = os.path.join(base_dir,'validation/cats/{}'.format(fname))\n",
        "  dest = os.path.join(test_cats_dir, fname)\n",
        "  shutil.move(src,dest)\n",
        "\n",
        "testDogNames = ['dog.{}.jpg'.format(i) for i in range(2000,2250)]\n",
        "for fname in testDogNames:\n",
        "  src = os.path.join(base_dir,'validation/dogs/{}'.format(fname))\n",
        "  dest = os.path.join(test_dogs_dir, fname)\n",
        "  shutil.move(src,dest)"
      ],
      "execution_count": 0,
      "outputs": []
    },
    {
      "cell_type": "markdown",
      "metadata": {
        "id": "S1mBR-iuR5U0",
        "colab_type": "text"
      },
      "source": [
        "We first use ImageDataGenerator to extract images and labels as Numpy arrays. Then we extract features from these images using **predict** method of **conv_base** model."
      ]
    },
    {
      "cell_type": "code",
      "metadata": {
        "id": "qeT0C4X-Dx8h",
        "colab_type": "code",
        "colab": {}
      },
      "source": [
        "datagen = ImageDataGenerator(rescale=1./255)\n",
        "batch_size = 20\n",
        "\n",
        "def extract_features(directory, sample_count):\n",
        "  features = np.zeros(shape=(sample_count, 4,4,512))\n",
        "  labels = np.zeros(shape=(sample_count))\n",
        "  generator = datagen.flow_from_directory(directory,\n",
        "                                         target_size=(150,150),\n",
        "                                         batch_size=batch_size,\n",
        "                                         class_mode='binary')\n",
        "  i=0\n",
        "  for inputs_batch, labels_batch in generator:\n",
        "    features_batch = conv_base.predict(inputs_batch)\n",
        "    features[i*batch_size: (i+1)*batch_size] = features_batch\n",
        "    labels[i*batch_size:(i+1)*batch_size] = labels_batch\n",
        "    i += 1\n",
        "    if i*batch_size >= sample_count:\n",
        "      break\n",
        "    return features, labels"
      ],
      "execution_count": 0,
      "outputs": []
    },
    {
      "cell_type": "code",
      "metadata": {
        "id": "YqfG0FirxV98",
        "colab_type": "code",
        "outputId": "cdb0e24c-afcc-486c-ddd5-1a3fae2f95e0",
        "colab": {
          "base_uri": "https://localhost:8080/",
          "height": 70
        }
      },
      "source": [
        "train_features, train_labels = extract_features(train_dir, 2000)\n",
        "validation_features, validation_labels = extract_features(validation_dir, 500)\n",
        "test_features, test_labels = extract_features(test_dir, 500)"
      ],
      "execution_count": 8,
      "outputs": [
        {
          "output_type": "stream",
          "text": [
            "Found 2000 images belonging to 2 classes.\n",
            "Found 500 images belonging to 2 classes.\n",
            "Found 500 images belonging to 2 classes.\n"
          ],
          "name": "stdout"
        }
      ]
    },
    {
      "cell_type": "markdown",
      "metadata": {
        "id": "qJONeOSqL1B8",
        "colab_type": "text"
      },
      "source": [
        "The extracted features are currently of shape (samples,4,4,512). We will feed them to densely connected classifier, and before that, we will flatten them to (samples, (4x4x512))"
      ]
    },
    {
      "cell_type": "code",
      "metadata": {
        "id": "YIOm9pIeELDn",
        "colab_type": "code",
        "colab": {}
      },
      "source": [
        "train_features = np.reshape(train_features, (2000, 4*4*512))\n",
        "validation_features = np.reshape(validation_features, (500, 4*4*512))\n",
        "test_features = np.reshape(test_features, (500,4*4*512))"
      ],
      "execution_count": 0,
      "outputs": []
    },
    {
      "cell_type": "markdown",
      "metadata": {
        "id": "Zi1T8JzGRHAU",
        "colab_type": "text"
      },
      "source": [
        "Finally, we define densely connected classifier and train it on data and labels that we just recorded."
      ]
    },
    {
      "cell_type": "code",
      "metadata": {
        "id": "PzfnpYebSZOl",
        "colab_type": "code",
        "outputId": "50de8601-8b35-4e24-e952-edcf7f6f7aba",
        "colab": {
          "base_uri": "https://localhost:8080/",
          "height": 1000
        }
      },
      "source": [
        "from keras import models\n",
        "from keras import layers\n",
        "from keras import optimizers\n",
        "\n",
        "model = models.Sequential()\n",
        "model.add(layers.Dropout(0.5))\n",
        "model.add(layers.Dense(256, activation='relu', input_dim=4*4*512))\n",
        "model.add(layers.Dense(1, activation='sigmoid'))\n",
        "\n",
        "model.compile(optimizer=optimizers.RMSprop(lr=1e-3),\n",
        "             loss='binary_crossentropy',\n",
        "             metrics=['acc'])\n",
        "\n",
        "history=model.fit(train_features, train_labels,\n",
        "                 epochs=30,\n",
        "                 validation_data=(validation_features, validation_labels))"
      ],
      "execution_count": 10,
      "outputs": [
        {
          "output_type": "stream",
          "text": [
            "WARNING:tensorflow:From /usr/local/lib/python3.6/dist-packages/keras/optimizers.py:793: The name tf.train.Optimizer is deprecated. Please use tf.compat.v1.train.Optimizer instead.\n",
            "\n",
            "WARNING:tensorflow:From /usr/local/lib/python3.6/dist-packages/keras/backend/tensorflow_backend.py:3733: calling dropout (from tensorflow.python.ops.nn_ops) with keep_prob is deprecated and will be removed in a future version.\n",
            "Instructions for updating:\n",
            "Please use `rate` instead of `keep_prob`. Rate should be set to `rate = 1 - keep_prob`.\n",
            "WARNING:tensorflow:From /usr/local/lib/python3.6/dist-packages/tensorflow/python/ops/nn_impl.py:180: add_dispatch_support.<locals>.wrapper (from tensorflow.python.ops.array_ops) is deprecated and will be removed in a future version.\n",
            "Instructions for updating:\n",
            "Use tf.where in 2.0, which has the same broadcast rule as np.where\n",
            "Train on 2000 samples, validate on 500 samples\n",
            "Epoch 1/30\n",
            "2000/2000 [==============================] - 1s 620us/step - loss: 0.6412 - acc: 0.9795 - val_loss: 0.5943 - val_acc: 0.9780\n",
            "Epoch 2/30\n",
            "2000/2000 [==============================] - 0s 170us/step - loss: 0.3993 - acc: 0.9970 - val_loss: 0.4203 - val_acc: 0.9780\n",
            "Epoch 3/30\n",
            "2000/2000 [==============================] - 0s 165us/step - loss: 0.1783 - acc: 1.0000 - val_loss: 0.1493 - val_acc: 0.9880\n",
            "Epoch 4/30\n",
            "2000/2000 [==============================] - 0s 163us/step - loss: 0.0572 - acc: 1.0000 - val_loss: 0.1452 - val_acc: 0.9860\n",
            "Epoch 5/30\n",
            "2000/2000 [==============================] - 0s 169us/step - loss: 0.0168 - acc: 0.9995 - val_loss: 0.0487 - val_acc: 0.9940\n",
            "Epoch 6/30\n",
            "2000/2000 [==============================] - 0s 170us/step - loss: 0.0048 - acc: 0.9995 - val_loss: 0.0436 - val_acc: 0.9940\n",
            "Epoch 7/30\n",
            "2000/2000 [==============================] - 0s 169us/step - loss: 0.0107 - acc: 0.9990 - val_loss: 0.0464 - val_acc: 0.9920\n",
            "Epoch 8/30\n",
            "2000/2000 [==============================] - 0s 163us/step - loss: 3.2913e-04 - acc: 1.0000 - val_loss: 0.0531 - val_acc: 0.9920\n",
            "Epoch 9/30\n",
            "2000/2000 [==============================] - 0s 161us/step - loss: 5.5490e-05 - acc: 1.0000 - val_loss: 0.0660 - val_acc: 0.9940\n",
            "Epoch 10/30\n",
            "2000/2000 [==============================] - 0s 170us/step - loss: 7.5048e-06 - acc: 1.0000 - val_loss: 0.0650 - val_acc: 0.9920\n",
            "Epoch 11/30\n",
            "2000/2000 [==============================] - 0s 174us/step - loss: 9.8402e-07 - acc: 1.0000 - val_loss: 0.0689 - val_acc: 0.9940\n",
            "Epoch 12/30\n",
            "2000/2000 [==============================] - 0s 172us/step - loss: 1.6709e-07 - acc: 1.0000 - val_loss: 0.0705 - val_acc: 0.9940\n",
            "Epoch 13/30\n",
            "2000/2000 [==============================] - 0s 172us/step - loss: 1.0165e-07 - acc: 1.0000 - val_loss: 0.0485 - val_acc: 0.9940\n",
            "Epoch 14/30\n",
            "2000/2000 [==============================] - 0s 171us/step - loss: 1.0012e-07 - acc: 1.0000 - val_loss: 0.0485 - val_acc: 0.9940\n",
            "Epoch 15/30\n",
            "2000/2000 [==============================] - 0s 176us/step - loss: 1.0012e-07 - acc: 1.0000 - val_loss: 0.0485 - val_acc: 0.9940\n",
            "Epoch 16/30\n",
            "2000/2000 [==============================] - 0s 167us/step - loss: 1.0012e-07 - acc: 1.0000 - val_loss: 0.0485 - val_acc: 0.9940\n",
            "Epoch 17/30\n",
            "2000/2000 [==============================] - 0s 170us/step - loss: 1.0012e-07 - acc: 1.0000 - val_loss: 0.0485 - val_acc: 0.9940\n",
            "Epoch 18/30\n",
            "2000/2000 [==============================] - 0s 163us/step - loss: 2.7137e-07 - acc: 1.0000 - val_loss: 0.0769 - val_acc: 0.9940\n",
            "Epoch 19/30\n",
            "2000/2000 [==============================] - 0s 171us/step - loss: 1.0609e-07 - acc: 1.0000 - val_loss: 0.0442 - val_acc: 0.9920\n",
            "Epoch 20/30\n",
            "2000/2000 [==============================] - 0s 177us/step - loss: 1.0012e-07 - acc: 1.0000 - val_loss: 0.0442 - val_acc: 0.9920\n",
            "Epoch 21/30\n",
            "2000/2000 [==============================] - 0s 173us/step - loss: 1.0012e-07 - acc: 1.0000 - val_loss: 0.0442 - val_acc: 0.9920\n",
            "Epoch 22/30\n",
            "2000/2000 [==============================] - 0s 170us/step - loss: 1.0012e-07 - acc: 1.0000 - val_loss: 0.0442 - val_acc: 0.9920\n",
            "Epoch 23/30\n",
            "2000/2000 [==============================] - 0s 163us/step - loss: 1.0012e-07 - acc: 1.0000 - val_loss: 0.0442 - val_acc: 0.9920\n",
            "Epoch 24/30\n",
            "2000/2000 [==============================] - 0s 169us/step - loss: 1.0012e-07 - acc: 1.0000 - val_loss: 0.0442 - val_acc: 0.9920\n",
            "Epoch 25/30\n",
            "2000/2000 [==============================] - 0s 171us/step - loss: 1.0012e-07 - acc: 1.0000 - val_loss: 0.0442 - val_acc: 0.9920\n",
            "Epoch 26/30\n",
            "2000/2000 [==============================] - 0s 182us/step - loss: 1.0012e-07 - acc: 1.0000 - val_loss: 0.0442 - val_acc: 0.9920\n",
            "Epoch 27/30\n",
            "2000/2000 [==============================] - 0s 169us/step - loss: 1.0012e-07 - acc: 1.0000 - val_loss: 0.0442 - val_acc: 0.9920\n",
            "Epoch 28/30\n",
            "2000/2000 [==============================] - 0s 169us/step - loss: 1.0012e-07 - acc: 1.0000 - val_loss: 0.0442 - val_acc: 0.9920\n",
            "Epoch 29/30\n",
            "2000/2000 [==============================] - 0s 174us/step - loss: 1.0012e-07 - acc: 1.0000 - val_loss: 0.0442 - val_acc: 0.9920\n",
            "Epoch 30/30\n",
            "2000/2000 [==============================] - 0s 165us/step - loss: 1.0012e-07 - acc: 1.0000 - val_loss: 0.0442 - val_acc: 0.9920\n"
          ],
          "name": "stdout"
        }
      ]
    },
    {
      "cell_type": "markdown",
      "metadata": {
        "id": "hUMb93k5Ucze",
        "colab_type": "text"
      },
      "source": [
        "We observe that each epoch took much less time. This is because we only have to deal with Dense layers. Let us see accuracy curves."
      ]
    },
    {
      "cell_type": "code",
      "metadata": {
        "id": "6_mMT0hdUw23",
        "colab_type": "code",
        "colab": {}
      },
      "source": [
        "import matplotlib.pyplot as plt\n",
        "\n",
        "def plot_graphs(history):\n",
        "  acc = history.history['acc']\n",
        "  val_acc = history.history['val_acc']\n",
        "  loss = history.history['loss']\n",
        "  val_loss = history.history['val_loss']\n",
        "\n",
        "  epochs = range(1,len(acc)+1)\n",
        "\n",
        "  plt.plot(epochs, acc, 'bo', label=\"Training acc\")\n",
        "  plt.plot(epochs, val_acc, 'b', label=\"Validation acc\")\n",
        "  plt.title(\"Training and Validation accuracy\")\n",
        "  plt.legend()\n",
        "\n",
        "  plt.figure()\n",
        "\n",
        "  plt.plot(epochs, loss, 'bo', label=\"Training loss\")\n",
        "  plt.plot(epochs, val_loss, 'b', label=\"Validation loss\")\n",
        "  plt.title(\"Training and validation loss\")\n",
        "  plt.legend()\n",
        "\n",
        "  plt.show()"
      ],
      "execution_count": 0,
      "outputs": []
    },
    {
      "cell_type": "code",
      "metadata": {
        "id": "IQWXLzxIcvEJ",
        "colab_type": "code",
        "outputId": "dc81261e-9d58-4406-97b1-d446842a0280",
        "colab": {
          "base_uri": "https://localhost:8080/",
          "height": 545
        }
      },
      "source": [
        "plot_graphs(history)"
      ],
      "execution_count": 12,
      "outputs": [
        {
          "output_type": "display_data",
          "data": {
            "image/png": "[encoded data removed]",
            "text/plain": [
              "<Figure size 432x288 with 1 Axes>"
            ]
          },
          "metadata": {
            "tags": []
          }
        },
        {
          "output_type": "display_data",
          "data": {
            "image/png": "[encoded data removed]",
            "text/plain": [
              "<Figure size 432x288 with 1 Axes>"
            ]
          },
          "metadata": {
            "tags": []
          }
        }
      ]
    },
    {
      "cell_type": "markdown",
      "metadata": {
        "id": "GgX0DKLwVc8y",
        "colab_type": "text"
      },
      "source": [
        "We see that validation accuracy is over 99%, which is much better than what we saw in last section with small model trained from scratch. However, the plot also indicates overfitting from the start inspite of using dropout. This is because this technique does not use data-augmentation, which is essential for preventing overfitting with small image datasets.\n",
        "\n",
        "### Feature extraction with Data Augmentation\n",
        "\n",
        "Here we will be extending the conv_base model and running it end to end on inputs. This technique however is very expensive and requires GPU.\n",
        "\n",
        "As models behave just as layers, we can add model (like conv_base) to a Sequential model just like we would add layer."
      ]
    },
    {
      "cell_type": "code",
      "metadata": {
        "id": "xr9ub_5bfWp2",
        "colab_type": "code",
        "outputId": "f7d47b60-07d0-445b-9cd8-dbbc4e8d482b",
        "colab": {
          "base_uri": "https://localhost:8080/",
          "height": 826
        }
      },
      "source": [
        "# conv_base = VGG16(weights='imagenet',\n",
        "#                  include_top=False,\n",
        "#                  input_shape=(150,150,3))\n",
        "conv_base.summary()"
      ],
      "execution_count": 13,
      "outputs": [
        {
          "output_type": "stream",
          "text": [
            "Model: \"vgg16\"\n",
            "_________________________________________________________________\n",
            "Layer (type)                 Output Shape              Param #   \n",
            "=================================================================\n",
            "input_1 (InputLayer)         (None, 150, 150, 3)       0         \n",
            "_________________________________________________________________\n",
            "block1_conv1 (Conv2D)        (None, 150, 150, 64)      1792      \n",
            "_________________________________________________________________\n",
            "block1_conv2 (Conv2D)        (None, 150, 150, 64)      36928     \n",
            "_________________________________________________________________\n",
            "block1_pool (MaxPooling2D)   (None, 75, 75, 64)        0         \n",
            "_________________________________________________________________\n",
            "block2_conv1 (Conv2D)        (None, 75, 75, 128)       73856     \n",
            "_________________________________________________________________\n",
            "block2_conv2 (Conv2D)        (None, 75, 75, 128)       147584    \n",
            "_________________________________________________________________\n",
            "block2_pool (MaxPooling2D)   (None, 37, 37, 128)       0         \n",
            "_________________________________________________________________\n",
            "block3_conv1 (Conv2D)        (None, 37, 37, 256)       295168    \n",
            "_________________________________________________________________\n",
            "block3_conv2 (Conv2D)        (None, 37, 37, 256)       590080    \n",
            "_________________________________________________________________\n",
            "block3_conv3 (Conv2D)        (None, 37, 37, 256)       590080    \n",
            "_________________________________________________________________\n",
            "block3_pool (MaxPooling2D)   (None, 18, 18, 256)       0         \n",
            "_________________________________________________________________\n",
            "block4_conv1 (Conv2D)        (None, 18, 18, 512)       1180160   \n",
            "_________________________________________________________________\n",
            "block4_conv2 (Conv2D)        (None, 18, 18, 512)       2359808   \n",
            "_________________________________________________________________\n",
            "block4_conv3 (Conv2D)        (None, 18, 18, 512)       2359808   \n",
            "_________________________________________________________________\n",
            "block4_pool (MaxPooling2D)   (None, 9, 9, 512)         0         \n",
            "_________________________________________________________________\n",
            "block5_conv1 (Conv2D)        (None, 9, 9, 512)         2359808   \n",
            "_________________________________________________________________\n",
            "block5_conv2 (Conv2D)        (None, 9, 9, 512)         2359808   \n",
            "_________________________________________________________________\n",
            "block5_conv3 (Conv2D)        (None, 9, 9, 512)         2359808   \n",
            "_________________________________________________________________\n",
            "block5_pool (MaxPooling2D)   (None, 4, 4, 512)         0         \n",
            "=================================================================\n",
            "Total params: 14,714,688\n",
            "Trainable params: 14,714,688\n",
            "Non-trainable params: 0\n",
            "_________________________________________________________________\n"
          ],
          "name": "stdout"
        }
      ]
    },
    {
      "cell_type": "code",
      "metadata": {
        "id": "2S3avV8hRvSp",
        "colab_type": "code",
        "colab": {}
      },
      "source": [
        "from keras import models\n",
        "from keras import layers\n",
        "\n",
        "model_aug = models.Sequential()\n",
        "model_aug.add(conv_base)\n",
        "model_aug.add(layers.Flatten())\n",
        "model_aug.add(layers.Dropout(0.5))\n",
        "model_aug.add(layers.Dense(256, activation='relu'))\n",
        "model_aug.add(layers.Dense(1, activation='sigmoid'))"
      ],
      "execution_count": 0,
      "outputs": []
    },
    {
      "cell_type": "code",
      "metadata": {
        "id": "uONZkjItewSs",
        "colab_type": "code",
        "outputId": "4e2a3406-7c37-481b-b154-0e3af68fc873",
        "colab": {
          "base_uri": "https://localhost:8080/",
          "height": 334
        }
      },
      "source": [
        "model_aug.summary()"
      ],
      "execution_count": 15,
      "outputs": [
        {
          "output_type": "stream",
          "text": [
            "Model: \"sequential_2\"\n",
            "_________________________________________________________________\n",
            "Layer (type)                 Output Shape              Param #   \n",
            "=================================================================\n",
            "vgg16 (Model)                (None, 4, 4, 512)         14714688  \n",
            "_________________________________________________________________\n",
            "flatten_1 (Flatten)          (None, 8192)              0         \n",
            "_________________________________________________________________\n",
            "dropout_2 (Dropout)          (None, 8192)              0         \n",
            "_________________________________________________________________\n",
            "dense_3 (Dense)              (None, 256)               2097408   \n",
            "_________________________________________________________________\n",
            "dense_4 (Dense)              (None, 1)                 257       \n",
            "=================================================================\n",
            "Total params: 16,812,353\n",
            "Trainable params: 16,812,353\n",
            "Non-trainable params: 0\n",
            "_________________________________________________________________\n"
          ],
          "name": "stdout"
        }
      ]
    },
    {
      "cell_type": "markdown",
      "metadata": {
        "id": "3tVO-C41Va7w",
        "colab_type": "text"
      },
      "source": [
        "As we see, convolutional base of VGG16 has 14, 714, 688 parameters, and the classifier we are adding on top it has around 2 million paramters, which is very large.\n",
        "\n",
        "It is very important to freeze the convolutional base before we compile and train the model. **Freezeing** a layer or set of layers mean preventing their weights from being updated during training. If we dont do this, then the representations that were previously learned by convolutional base will be modified during training. \n",
        "\n",
        "In Keras, we freeze the network by setting its **trianable** attribute to **FALSE**"
      ]
    },
    {
      "cell_type": "code",
      "metadata": {
        "id": "i_oTCMy1XJFC",
        "colab_type": "code",
        "outputId": "2e2018f7-d4b0-4e5f-9a3c-7d531fea31bb",
        "colab": {
          "base_uri": "https://localhost:8080/",
          "height": 52
        }
      },
      "source": [
        "print(\"Number of trainable weights before freezing the conv base: \", len(model.trainable_weights))\n",
        "conv_base.trainable = False\n",
        "print(\"Number of trainable weights after freezing the conv base: \", len(model.trainable_weights))"
      ],
      "execution_count": 16,
      "outputs": [
        {
          "output_type": "stream",
          "text": [
            "Number of trainable weights before freezing the conv base:  4\n",
            "Number of trainable weights after freezing the conv base:  4\n"
          ],
          "name": "stdout"
        }
      ]
    },
    {
      "cell_type": "markdown",
      "metadata": {
        "id": "VQoZmV6GXqQm",
        "colab_type": "text"
      },
      "source": [
        "Now, only the weights from the two Dense layers will be updated. That is 4 weight tensors per layer(main weight matrix and bias matrix). For these changes to take effect, we will compile the model. Let us train the model now with some data-augmentation configurations."
      ]
    },
    {
      "cell_type": "code",
      "metadata": {
        "id": "GRNzJN5YYwQX",
        "colab_type": "code",
        "outputId": "70ed2757-021c-4cf3-d156-2301759b0331",
        "colab": {
          "base_uri": "https://localhost:8080/",
          "height": 70
        }
      },
      "source": [
        "# Do not augement validation or test data\n",
        "train_datagen = ImageDataGenerator(rescale=1./255,\n",
        "                                  rotation_range=40,\n",
        "                                  width_shift_range=0.2,\n",
        "                                  height_shift_range=0.2,\n",
        "                                  shear_range=0.2,\n",
        "                                  zoom_range=0.2,\n",
        "                                  horizontal_flip=True,\n",
        "                                  fill_mode = 'nearest')\n",
        "\n",
        "validation_datagen = ImageDataGenerator(rescale=1./255)\n",
        "test_datagen = ImageDataGenerator(rescale=1./255)\n",
        "\n",
        "#Resize all files\n",
        "#As we are using binary_crossentropy loss hence we use binary as class mode\n",
        "train_generator = train_datagen.flow_from_directory(\n",
        "train_dir,\n",
        "target_size=(150,150),\n",
        "batch_size=20,\n",
        "class_mode='binary')\n",
        "\n",
        "validation_generator = validation_datagen.flow_from_directory(\n",
        "validation_dir,\n",
        "target_size=(150,150),\n",
        "batch_size=20,\n",
        "class_mode='binary')\n",
        "\n",
        "test_generator = test_datagen.flow_from_directory(\n",
        "test_dir,\n",
        "target_size=(150,150),\n",
        "batch_size=20,\n",
        "class_mode='binary')"
      ],
      "execution_count": 17,
      "outputs": [
        {
          "output_type": "stream",
          "text": [
            "Found 2000 images belonging to 2 classes.\n",
            "Found 500 images belonging to 2 classes.\n",
            "Found 500 images belonging to 2 classes.\n"
          ],
          "name": "stdout"
        }
      ]
    },
    {
      "cell_type": "code",
      "metadata": {
        "id": "IRganRAzcAf0",
        "colab_type": "code",
        "outputId": "f29bcb99-211a-4ec1-b48a-5d87eb207e2d",
        "colab": {
          "base_uri": "https://localhost:8080/",
          "height": 1000
        }
      },
      "source": [
        "model_aug.compile(loss='binary_crossentropy', optimizer=optimizers.RMSprop(lr=2e-5), metrics=['acc'])\n",
        "history_aug = model_aug.fit_generator(train_generator,\n",
        "                             steps_per_epoch=100,\n",
        "                             epochs=30,\n",
        "                             validation_data=validation_generator,\n",
        "                             validation_steps=50)"
      ],
      "execution_count": 18,
      "outputs": [
        {
          "output_type": "stream",
          "text": [
            "Epoch 1/30\n",
            "100/100 [==============================] - 17s 175ms/step - loss: 0.6932 - acc: 0.5670 - val_loss: 0.5298 - val_acc: 0.7260\n",
            "Epoch 2/30\n",
            "100/100 [==============================] - 16s 155ms/step - loss: 0.5755 - acc: 0.6935 - val_loss: 0.4366 - val_acc: 0.8080\n",
            "Epoch 3/30\n",
            "100/100 [==============================] - 16s 155ms/step - loss: 0.5226 - acc: 0.7440 - val_loss: 0.3907 - val_acc: 0.8260\n",
            "Epoch 4/30\n",
            "100/100 [==============================] - 16s 160ms/step - loss: 0.4883 - acc: 0.7655 - val_loss: 0.3545 - val_acc: 0.8580\n",
            "Epoch 5/30\n",
            "100/100 [==============================] - 16s 157ms/step - loss: 0.4571 - acc: 0.7865 - val_loss: 0.3447 - val_acc: 0.8620\n",
            "Epoch 6/30\n",
            "100/100 [==============================] - 16s 158ms/step - loss: 0.4421 - acc: 0.7945 - val_loss: 0.3237 - val_acc: 0.8620\n",
            "Epoch 7/30\n",
            "100/100 [==============================] - 16s 157ms/step - loss: 0.4322 - acc: 0.7975 - val_loss: 0.3236 - val_acc: 0.8580\n",
            "Epoch 8/30\n",
            "100/100 [==============================] - 16s 159ms/step - loss: 0.4207 - acc: 0.8050 - val_loss: 0.3117 - val_acc: 0.8680\n",
            "Epoch 9/30\n",
            "100/100 [==============================] - 16s 157ms/step - loss: 0.4081 - acc: 0.8195 - val_loss: 0.3020 - val_acc: 0.8660\n",
            "Epoch 10/30\n",
            "100/100 [==============================] - 16s 158ms/step - loss: 0.4007 - acc: 0.8120 - val_loss: 0.2991 - val_acc: 0.8660\n",
            "Epoch 11/30\n",
            "100/100 [==============================] - 16s 155ms/step - loss: 0.4012 - acc: 0.8210 - val_loss: 0.2900 - val_acc: 0.8720\n",
            "Epoch 12/30\n",
            "100/100 [==============================] - 16s 156ms/step - loss: 0.3944 - acc: 0.8240 - val_loss: 0.2897 - val_acc: 0.8700\n",
            "Epoch 13/30\n",
            "100/100 [==============================] - 16s 158ms/step - loss: 0.3802 - acc: 0.8200 - val_loss: 0.2810 - val_acc: 0.8720\n",
            "Epoch 14/30\n",
            "100/100 [==============================] - 15s 155ms/step - loss: 0.3774 - acc: 0.8350 - val_loss: 0.3233 - val_acc: 0.8540\n",
            "Epoch 15/30\n",
            "100/100 [==============================] - 16s 158ms/step - loss: 0.3644 - acc: 0.8420 - val_loss: 0.2978 - val_acc: 0.8680\n",
            "Epoch 16/30\n",
            "100/100 [==============================] - 16s 159ms/step - loss: 0.3844 - acc: 0.8270 - val_loss: 0.2838 - val_acc: 0.8760\n",
            "Epoch 17/30\n",
            "100/100 [==============================] - 15s 153ms/step - loss: 0.3958 - acc: 0.8140 - val_loss: 0.2831 - val_acc: 0.8740\n",
            "Epoch 18/30\n",
            "100/100 [==============================] - 16s 157ms/step - loss: 0.3839 - acc: 0.8265 - val_loss: 0.3044 - val_acc: 0.8660\n",
            "Epoch 19/30\n",
            "100/100 [==============================] - 16s 157ms/step - loss: 0.3464 - acc: 0.8410 - val_loss: 0.2931 - val_acc: 0.8720\n",
            "Epoch 20/30\n",
            "100/100 [==============================] - 16s 157ms/step - loss: 0.3746 - acc: 0.8335 - val_loss: 0.2662 - val_acc: 0.8760\n",
            "Epoch 21/30\n",
            "100/100 [==============================] - 16s 160ms/step - loss: 0.3470 - acc: 0.8435 - val_loss: 0.2762 - val_acc: 0.8820\n",
            "Epoch 22/30\n",
            "100/100 [==============================] - 16s 155ms/step - loss: 0.3825 - acc: 0.8250 - val_loss: 0.2648 - val_acc: 0.8780\n",
            "Epoch 23/30\n",
            "100/100 [==============================] - 16s 157ms/step - loss: 0.3467 - acc: 0.8500 - val_loss: 0.2789 - val_acc: 0.8860\n",
            "Epoch 24/30\n",
            "100/100 [==============================] - 16s 155ms/step - loss: 0.3512 - acc: 0.8470 - val_loss: 0.2608 - val_acc: 0.8860\n",
            "Epoch 25/30\n",
            "100/100 [==============================] - 15s 154ms/step - loss: 0.3524 - acc: 0.8410 - val_loss: 0.2745 - val_acc: 0.8800\n",
            "Epoch 26/30\n",
            "100/100 [==============================] - 16s 158ms/step - loss: 0.3395 - acc: 0.8525 - val_loss: 0.2635 - val_acc: 0.8860\n",
            "Epoch 27/30\n",
            "100/100 [==============================] - 16s 160ms/step - loss: 0.3608 - acc: 0.8350 - val_loss: 0.2655 - val_acc: 0.8840\n",
            "Epoch 28/30\n",
            "100/100 [==============================] - 16s 156ms/step - loss: 0.3460 - acc: 0.8495 - val_loss: 0.2808 - val_acc: 0.8820\n",
            "Epoch 29/30\n",
            "100/100 [==============================] - 16s 157ms/step - loss: 0.3341 - acc: 0.8440 - val_loss: 0.2952 - val_acc: 0.8780\n",
            "Epoch 30/30\n",
            "100/100 [==============================] - 16s 157ms/step - loss: 0.3411 - acc: 0.8445 - val_loss: 0.2677 - val_acc: 0.8820\n"
          ],
          "name": "stdout"
        }
      ]
    },
    {
      "cell_type": "code",
      "metadata": {
        "id": "80DSwvk8c1LC",
        "colab_type": "code",
        "outputId": "e95d9413-4c44-4520-af57-e967d7cf1be6",
        "colab": {
          "base_uri": "https://localhost:8080/",
          "height": 545
        }
      },
      "source": [
        "plot_graphs(history_aug)"
      ],
      "execution_count": 19,
      "outputs": [
        {
          "output_type": "display_data",
          "data": {
            "image/png": "[encoded data removed]",
            "text/plain": [
              "<Figure size 432x288 with 1 Axes>"
            ]
          },
          "metadata": {
            "tags": []
          }
        },
        {
          "output_type": "display_data",
          "data": {
            "image/png": "[encoded data removed]",
            "text/plain": [
              "<Figure size 432x288 with 1 Axes>"
            ]
          },
          "metadata": {
            "tags": []
          }
        }
      ]
    },
    {
      "cell_type": "markdown",
      "metadata": {
        "id": "skeeoxxq9HWj",
        "colab_type": "text"
      },
      "source": [
        "We observe that Validation accuracy is around 90% which is much better than 75% accuracy achieved with the small covnet trained from scratch.\n",
        "\n",
        "## Fine Tuning\n",
        "\n",
        "Fine tuning consists of unfreezing few of the top layers of a frozen model base used for feature extraction and jointly training both the newly added part of the layer and these top layer. This process slightly adjusts the more abstract representation of the model being reused. It is only possible to fine-tune the top layers of convolutional base once the classifier on top has already been trained. The steps for fine tuning a network are as follows:\n",
        "\n",
        "- Add your custom network on top of already trained base network\n",
        "- Freeze the base network\n",
        "- Train the part you added\n",
        "- Unfreeze some layers in the base network\n",
        "- Jointly train both these layers and the part you added\n",
        "\n",
        "We already completed the first 3 steps during feature extraction, when we added a custom Dense layer on top of base network, then froze the convolution base network and trained the Dense layer. Now we will unfreeze the conv_base and freeze individual layers inside it."
      ]
    },
    {
      "cell_type": "code",
      "metadata": {
        "id": "TNDIctEEGgwt",
        "colab_type": "code",
        "colab": {
          "base_uri": "https://localhost:8080/",
          "height": 826
        },
        "outputId": "14c3105a-f9e3-4e61-e098-37f5388b5d62"
      },
      "source": [
        "conv_base.summary()"
      ],
      "execution_count": 20,
      "outputs": [
        {
          "output_type": "stream",
          "text": [
            "Model: \"vgg16\"\n",
            "_________________________________________________________________\n",
            "Layer (type)                 Output Shape              Param #   \n",
            "=================================================================\n",
            "input_1 (InputLayer)         (None, 150, 150, 3)       0         \n",
            "_________________________________________________________________\n",
            "block1_conv1 (Conv2D)        (None, 150, 150, 64)      1792      \n",
            "_________________________________________________________________\n",
            "block1_conv2 (Conv2D)        (None, 150, 150, 64)      36928     \n",
            "_________________________________________________________________\n",
            "block1_pool (MaxPooling2D)   (None, 75, 75, 64)        0         \n",
            "_________________________________________________________________\n",
            "block2_conv1 (Conv2D)        (None, 75, 75, 128)       73856     \n",
            "_________________________________________________________________\n",
            "block2_conv2 (Conv2D)        (None, 75, 75, 128)       147584    \n",
            "_________________________________________________________________\n",
            "block2_pool (MaxPooling2D)   (None, 37, 37, 128)       0         \n",
            "_________________________________________________________________\n",
            "block3_conv1 (Conv2D)        (None, 37, 37, 256)       295168    \n",
            "_________________________________________________________________\n",
            "block3_conv2 (Conv2D)        (None, 37, 37, 256)       590080    \n",
            "_________________________________________________________________\n",
            "block3_conv3 (Conv2D)        (None, 37, 37, 256)       590080    \n",
            "_________________________________________________________________\n",
            "block3_pool (MaxPooling2D)   (None, 18, 18, 256)       0         \n",
            "_________________________________________________________________\n",
            "block4_conv1 (Conv2D)        (None, 18, 18, 512)       1180160   \n",
            "_________________________________________________________________\n",
            "block4_conv2 (Conv2D)        (None, 18, 18, 512)       2359808   \n",
            "_________________________________________________________________\n",
            "block4_conv3 (Conv2D)        (None, 18, 18, 512)       2359808   \n",
            "_________________________________________________________________\n",
            "block4_pool (MaxPooling2D)   (None, 9, 9, 512)         0         \n",
            "_________________________________________________________________\n",
            "block5_conv1 (Conv2D)        (None, 9, 9, 512)         2359808   \n",
            "_________________________________________________________________\n",
            "block5_conv2 (Conv2D)        (None, 9, 9, 512)         2359808   \n",
            "_________________________________________________________________\n",
            "block5_conv3 (Conv2D)        (None, 9, 9, 512)         2359808   \n",
            "_________________________________________________________________\n",
            "block5_pool (MaxPooling2D)   (None, 4, 4, 512)         0         \n",
            "=================================================================\n",
            "Total params: 14,714,688\n",
            "Trainable params: 0\n",
            "Non-trainable params: 14,714,688\n",
            "_________________________________________________________________\n"
          ],
          "name": "stdout"
        }
      ]
    },
    {
      "cell_type": "markdown",
      "metadata": {
        "id": "IEytEZXyGlvt",
        "colab_type": "text"
      },
      "source": [
        "We will fine tune the last set of layers, which means all layers upto block4_pool should be frozen, and the layers block5_conv1, block5_cov2 and block5_conv3 should be trained. The reason we **do not encode other layers** is because, earlier layers in the convolution_base encode more-generic , reusable features, whereas layers higher up encode more specific features. It is more useful to fine-tune more specialized features as these are the ones that need to be repurposed for our new problem.\n",
        "\n",
        "Also, the more parameters we are training, more risk we have of overfitting. Let us proceed."
      ]
    },
    {
      "cell_type": "code",
      "metadata": {
        "id": "DOo68NBWHr-f",
        "colab_type": "code",
        "colab": {}
      },
      "source": [
        "conv_base.trainable = True\n",
        "set_trainable = False\n",
        "\n",
        "for layer in conv_base.layers:\n",
        "  if layer.name == 'block5_conv1':\n",
        "    set_trainable = True\n",
        "  if set_trainable:\n",
        "    layer.trainable = True\n",
        "  else:\n",
        "    layer.trainable = False"
      ],
      "execution_count": 0,
      "outputs": []
    },
    {
      "cell_type": "markdown",
      "metadata": {
        "id": "AbbJs-amI-F6",
        "colab_type": "text"
      },
      "source": [
        "Now we are ready to train our network with fine tunings. We will use RMSprop with very low learning rate. Reason we use low learning rate is because, we want to limit the magnitude of these modifications on representation of the three layers we are making modifications to. Updates that are too large may harm these modifications."
      ]
    },
    {
      "cell_type": "code",
      "metadata": {
        "id": "OwXVnu7rJvHA",
        "colab_type": "code",
        "colab": {
          "base_uri": "https://localhost:8080/",
          "height": 1000
        },
        "outputId": "1f5962a7-fc5e-46d8-c47d-300a2e947cf5"
      },
      "source": [
        "model_aug.compile(loss='binary_crossentropy',\n",
        "             optimizer=optimizers.RMSprop(lr=1e-5),\n",
        "             metrics=['acc'])\n",
        "\n",
        "history_tune = model_aug.fit_generator(train_generator,\n",
        "                             steps_per_epoch=100,\n",
        "                             epochs=100,\n",
        "                             validation_data=validation_generator,\n",
        "                             validation_steps=50)"
      ],
      "execution_count": 24,
      "outputs": [
        {
          "output_type": "stream",
          "text": [
            "Epoch 1/100\n",
            "100/100 [==============================] - 18s 184ms/step - loss: 0.3309 - acc: 0.8575 - val_loss: 0.2414 - val_acc: 0.8840\n",
            "Epoch 2/100\n",
            "100/100 [==============================] - 17s 168ms/step - loss: 0.3028 - acc: 0.8780 - val_loss: 0.2315 - val_acc: 0.8960\n",
            "Epoch 3/100\n",
            "100/100 [==============================] - 16s 161ms/step - loss: 0.2721 - acc: 0.8815 - val_loss: 0.2666 - val_acc: 0.8980\n",
            "Epoch 4/100\n",
            "100/100 [==============================] - 17s 168ms/step - loss: 0.2728 - acc: 0.8780 - val_loss: 0.2053 - val_acc: 0.9200\n",
            "Epoch 5/100\n",
            "100/100 [==============================] - 16s 165ms/step - loss: 0.2272 - acc: 0.9030 - val_loss: 0.2659 - val_acc: 0.9080\n",
            "Epoch 6/100\n",
            "100/100 [==============================] - 17s 165ms/step - loss: 0.2299 - acc: 0.9030 - val_loss: 0.2051 - val_acc: 0.9080\n",
            "Epoch 7/100\n",
            "100/100 [==============================] - 17s 168ms/step - loss: 0.2319 - acc: 0.9025 - val_loss: 0.2422 - val_acc: 0.9180\n",
            "Epoch 8/100\n",
            "100/100 [==============================] - 17s 168ms/step - loss: 0.1992 - acc: 0.9130 - val_loss: 0.2206 - val_acc: 0.9280\n",
            "Epoch 9/100\n",
            "100/100 [==============================] - 16s 161ms/step - loss: 0.2055 - acc: 0.9095 - val_loss: 0.2327 - val_acc: 0.9200\n",
            "Epoch 10/100\n",
            "100/100 [==============================] - 17s 167ms/step - loss: 0.1966 - acc: 0.9185 - val_loss: 0.2563 - val_acc: 0.9120\n",
            "Epoch 11/100\n",
            "100/100 [==============================] - 16s 162ms/step - loss: 0.1891 - acc: 0.9155 - val_loss: 0.2182 - val_acc: 0.9260\n",
            "Epoch 12/100\n",
            "100/100 [==============================] - 16s 162ms/step - loss: 0.1731 - acc: 0.9330 - val_loss: 0.1992 - val_acc: 0.9280\n",
            "Epoch 13/100\n",
            "100/100 [==============================] - 17s 167ms/step - loss: 0.1840 - acc: 0.9250 - val_loss: 0.2260 - val_acc: 0.9260\n",
            "Epoch 14/100\n",
            "100/100 [==============================] - 17s 166ms/step - loss: 0.1612 - acc: 0.9325 - val_loss: 0.2298 - val_acc: 0.9320\n",
            "Epoch 15/100\n",
            "100/100 [==============================] - 17s 166ms/step - loss: 0.1633 - acc: 0.9315 - val_loss: 0.1992 - val_acc: 0.9280\n",
            "Epoch 16/100\n",
            "100/100 [==============================] - 16s 162ms/step - loss: 0.1576 - acc: 0.9375 - val_loss: 0.2292 - val_acc: 0.9260\n",
            "Epoch 17/100\n",
            "100/100 [==============================] - 16s 162ms/step - loss: 0.1368 - acc: 0.9455 - val_loss: 0.2616 - val_acc: 0.9300\n",
            "Epoch 18/100\n",
            "100/100 [==============================] - 16s 164ms/step - loss: 0.1412 - acc: 0.9440 - val_loss: 0.2384 - val_acc: 0.9300\n",
            "Epoch 19/100\n",
            "100/100 [==============================] - 16s 163ms/step - loss: 0.1246 - acc: 0.9560 - val_loss: 0.2854 - val_acc: 0.9340\n",
            "Epoch 20/100\n",
            "100/100 [==============================] - 17s 165ms/step - loss: 0.1173 - acc: 0.9545 - val_loss: 0.3075 - val_acc: 0.9360\n",
            "Epoch 21/100\n",
            "100/100 [==============================] - 17s 166ms/step - loss: 0.1264 - acc: 0.9505 - val_loss: 0.2982 - val_acc: 0.9200\n",
            "Epoch 22/100\n",
            "100/100 [==============================] - 17s 167ms/step - loss: 0.1250 - acc: 0.9525 - val_loss: 0.2544 - val_acc: 0.9240\n",
            "Epoch 23/100\n",
            "100/100 [==============================] - 17s 166ms/step - loss: 0.1211 - acc: 0.9550 - val_loss: 0.2557 - val_acc: 0.9340\n",
            "Epoch 24/100\n",
            "100/100 [==============================] - 16s 165ms/step - loss: 0.1099 - acc: 0.9560 - val_loss: 0.2559 - val_acc: 0.9240\n",
            "Epoch 25/100\n",
            "100/100 [==============================] - 17s 166ms/step - loss: 0.1038 - acc: 0.9640 - val_loss: 0.3208 - val_acc: 0.9240\n",
            "Epoch 26/100\n",
            "100/100 [==============================] - 16s 163ms/step - loss: 0.1117 - acc: 0.9580 - val_loss: 0.2621 - val_acc: 0.9340\n",
            "Epoch 27/100\n",
            "100/100 [==============================] - 17s 166ms/step - loss: 0.1115 - acc: 0.9550 - val_loss: 0.3782 - val_acc: 0.9120\n",
            "Epoch 28/100\n",
            "100/100 [==============================] - 16s 162ms/step - loss: 0.1007 - acc: 0.9605 - val_loss: 0.3081 - val_acc: 0.9240\n",
            "Epoch 29/100\n",
            "100/100 [==============================] - 17s 169ms/step - loss: 0.1017 - acc: 0.9580 - val_loss: 0.3057 - val_acc: 0.9320\n",
            "Epoch 30/100\n",
            "100/100 [==============================] - 17s 167ms/step - loss: 0.0801 - acc: 0.9680 - val_loss: 0.2674 - val_acc: 0.9340\n",
            "Epoch 31/100\n",
            "100/100 [==============================] - 17s 166ms/step - loss: 0.1043 - acc: 0.9610 - val_loss: 0.2419 - val_acc: 0.9380\n",
            "Epoch 32/100\n",
            "100/100 [==============================] - 16s 165ms/step - loss: 0.0878 - acc: 0.9650 - val_loss: 0.2998 - val_acc: 0.9320\n",
            "Epoch 33/100\n",
            "100/100 [==============================] - 17s 166ms/step - loss: 0.0897 - acc: 0.9655 - val_loss: 0.2406 - val_acc: 0.9400\n",
            "Epoch 34/100\n",
            "100/100 [==============================] - 17s 167ms/step - loss: 0.0890 - acc: 0.9620 - val_loss: 0.3060 - val_acc: 0.9340\n",
            "Epoch 35/100\n",
            "100/100 [==============================] - 16s 164ms/step - loss: 0.0882 - acc: 0.9640 - val_loss: 0.2701 - val_acc: 0.9340\n",
            "Epoch 36/100\n",
            "100/100 [==============================] - 16s 158ms/step - loss: 0.0721 - acc: 0.9715 - val_loss: 0.3206 - val_acc: 0.9300\n",
            "Epoch 37/100\n",
            "100/100 [==============================] - 17s 168ms/step - loss: 0.0857 - acc: 0.9730 - val_loss: 0.2863 - val_acc: 0.9340\n",
            "Epoch 38/100\n",
            "100/100 [==============================] - 16s 164ms/step - loss: 0.0710 - acc: 0.9760 - val_loss: 0.3997 - val_acc: 0.9240\n",
            "Epoch 39/100\n",
            "100/100 [==============================] - 16s 165ms/step - loss: 0.0683 - acc: 0.9725 - val_loss: 0.3059 - val_acc: 0.9340\n",
            "Epoch 40/100\n",
            "100/100 [==============================] - 17s 166ms/step - loss: 0.0766 - acc: 0.9670 - val_loss: 0.3475 - val_acc: 0.9340\n",
            "Epoch 41/100\n",
            "100/100 [==============================] - 17s 166ms/step - loss: 0.0681 - acc: 0.9785 - val_loss: 0.3084 - val_acc: 0.9380\n",
            "Epoch 42/100\n",
            "100/100 [==============================] - 17s 166ms/step - loss: 0.0698 - acc: 0.9760 - val_loss: 0.3578 - val_acc: 0.9280\n",
            "Epoch 43/100\n",
            "100/100 [==============================] - 16s 162ms/step - loss: 0.0637 - acc: 0.9780 - val_loss: 0.3106 - val_acc: 0.9400\n",
            "Epoch 44/100\n",
            "100/100 [==============================] - 17s 166ms/step - loss: 0.0729 - acc: 0.9740 - val_loss: 0.3654 - val_acc: 0.9280\n",
            "Epoch 45/100\n",
            "100/100 [==============================] - 16s 165ms/step - loss: 0.0558 - acc: 0.9805 - val_loss: 0.4577 - val_acc: 0.9240\n",
            "Epoch 46/100\n",
            "100/100 [==============================] - 16s 165ms/step - loss: 0.0591 - acc: 0.9785 - val_loss: 0.2811 - val_acc: 0.9440\n",
            "Epoch 47/100\n",
            "100/100 [==============================] - 16s 164ms/step - loss: 0.0608 - acc: 0.9800 - val_loss: 0.2881 - val_acc: 0.9400\n",
            "Epoch 48/100\n",
            "100/100 [==============================] - 16s 162ms/step - loss: 0.0582 - acc: 0.9760 - val_loss: 0.5208 - val_acc: 0.9220\n",
            "Epoch 49/100\n",
            "100/100 [==============================] - 17s 166ms/step - loss: 0.0572 - acc: 0.9755 - val_loss: 0.2834 - val_acc: 0.9400\n",
            "Epoch 50/100\n",
            "100/100 [==============================] - 16s 161ms/step - loss: 0.0584 - acc: 0.9765 - val_loss: 0.2874 - val_acc: 0.9360\n",
            "Epoch 51/100\n",
            "100/100 [==============================] - 17s 165ms/step - loss: 0.0580 - acc: 0.9795 - val_loss: 0.3032 - val_acc: 0.9380\n",
            "Epoch 52/100\n",
            "100/100 [==============================] - 17s 168ms/step - loss: 0.0525 - acc: 0.9800 - val_loss: 0.3973 - val_acc: 0.9300\n",
            "Epoch 53/100\n",
            "100/100 [==============================] - 17s 166ms/step - loss: 0.0568 - acc: 0.9745 - val_loss: 0.2690 - val_acc: 0.9460\n",
            "Epoch 54/100\n",
            "100/100 [==============================] - 17s 166ms/step - loss: 0.0529 - acc: 0.9800 - val_loss: 0.2961 - val_acc: 0.9460\n",
            "Epoch 55/100\n",
            "100/100 [==============================] - 16s 164ms/step - loss: 0.0471 - acc: 0.9820 - val_loss: 0.3355 - val_acc: 0.9320\n",
            "Epoch 56/100\n",
            "100/100 [==============================] - 16s 159ms/step - loss: 0.0608 - acc: 0.9740 - val_loss: 0.3187 - val_acc: 0.9340\n",
            "Epoch 57/100\n",
            "100/100 [==============================] - 16s 165ms/step - loss: 0.0564 - acc: 0.9780 - val_loss: 0.2812 - val_acc: 0.9440\n",
            "Epoch 58/100\n",
            "100/100 [==============================] - 17s 167ms/step - loss: 0.0403 - acc: 0.9850 - val_loss: 0.3454 - val_acc: 0.9360\n",
            "Epoch 59/100\n",
            "100/100 [==============================] - 16s 164ms/step - loss: 0.0426 - acc: 0.9850 - val_loss: 0.3600 - val_acc: 0.9360\n",
            "Epoch 60/100\n",
            "100/100 [==============================] - 16s 162ms/step - loss: 0.0422 - acc: 0.9850 - val_loss: 0.4341 - val_acc: 0.9320\n",
            "Epoch 61/100\n",
            "100/100 [==============================] - 16s 163ms/step - loss: 0.0530 - acc: 0.9820 - val_loss: 0.3523 - val_acc: 0.9300\n",
            "Epoch 62/100\n",
            "100/100 [==============================] - 17s 168ms/step - loss: 0.0343 - acc: 0.9865 - val_loss: 0.3482 - val_acc: 0.9420\n",
            "Epoch 63/100\n",
            "100/100 [==============================] - 16s 161ms/step - loss: 0.0473 - acc: 0.9845 - val_loss: 0.3308 - val_acc: 0.9400\n",
            "Epoch 64/100\n",
            "100/100 [==============================] - 17s 167ms/step - loss: 0.0517 - acc: 0.9815 - val_loss: 0.2801 - val_acc: 0.9360\n",
            "Epoch 65/100\n",
            "100/100 [==============================] - 16s 162ms/step - loss: 0.0406 - acc: 0.9855 - val_loss: 0.3024 - val_acc: 0.9340\n",
            "Epoch 66/100\n",
            "100/100 [==============================] - 17s 166ms/step - loss: 0.0345 - acc: 0.9875 - val_loss: 0.3427 - val_acc: 0.9400\n",
            "Epoch 67/100\n",
            "100/100 [==============================] - 16s 164ms/step - loss: 0.0332 - acc: 0.9870 - val_loss: 0.3588 - val_acc: 0.9340\n",
            "Epoch 68/100\n",
            "100/100 [==============================] - 16s 165ms/step - loss: 0.0433 - acc: 0.9835 - val_loss: 0.4692 - val_acc: 0.9300\n",
            "Epoch 69/100\n",
            "100/100 [==============================] - 16s 164ms/step - loss: 0.0432 - acc: 0.9865 - val_loss: 0.3267 - val_acc: 0.9500\n",
            "Epoch 70/100\n",
            "100/100 [==============================] - 17s 166ms/step - loss: 0.0411 - acc: 0.9835 - val_loss: 0.3165 - val_acc: 0.9460\n",
            "Epoch 71/100\n",
            "100/100 [==============================] - 16s 162ms/step - loss: 0.0370 - acc: 0.9870 - val_loss: 0.3271 - val_acc: 0.9360\n",
            "Epoch 72/100\n",
            "100/100 [==============================] - 16s 163ms/step - loss: 0.0424 - acc: 0.9875 - val_loss: 0.3371 - val_acc: 0.9380\n",
            "Epoch 73/100\n",
            "100/100 [==============================] - 16s 164ms/step - loss: 0.0388 - acc: 0.9870 - val_loss: 0.3353 - val_acc: 0.9360\n",
            "Epoch 74/100\n",
            "100/100 [==============================] - 16s 165ms/step - loss: 0.0401 - acc: 0.9845 - val_loss: 0.3969 - val_acc: 0.9300\n",
            "Epoch 75/100\n",
            "100/100 [==============================] - 16s 165ms/step - loss: 0.0361 - acc: 0.9870 - val_loss: 0.3301 - val_acc: 0.9480\n",
            "Epoch 76/100\n",
            "100/100 [==============================] - 16s 164ms/step - loss: 0.0367 - acc: 0.9865 - val_loss: 0.3471 - val_acc: 0.9400\n",
            "Epoch 77/100\n",
            "100/100 [==============================] - 17s 166ms/step - loss: 0.0334 - acc: 0.9860 - val_loss: 0.3187 - val_acc: 0.9440\n",
            "Epoch 78/100\n",
            "100/100 [==============================] - 16s 165ms/step - loss: 0.0272 - acc: 0.9905 - val_loss: 0.3579 - val_acc: 0.9460\n",
            "Epoch 79/100\n",
            "100/100 [==============================] - 17s 166ms/step - loss: 0.0448 - acc: 0.9830 - val_loss: 0.3483 - val_acc: 0.9400\n",
            "Epoch 80/100\n",
            "100/100 [==============================] - 17s 166ms/step - loss: 0.0390 - acc: 0.9895 - val_loss: 0.3576 - val_acc: 0.9440\n",
            "Epoch 81/100\n",
            "100/100 [==============================] - 17s 166ms/step - loss: 0.0325 - acc: 0.9900 - val_loss: 0.3519 - val_acc: 0.9440\n",
            "Epoch 82/100\n",
            "100/100 [==============================] - 17s 166ms/step - loss: 0.0293 - acc: 0.9885 - val_loss: 0.3601 - val_acc: 0.9400\n",
            "Epoch 83/100\n",
            "100/100 [==============================] - 16s 162ms/step - loss: 0.0351 - acc: 0.9885 - val_loss: 0.4573 - val_acc: 0.9280\n",
            "Epoch 84/100\n",
            "100/100 [==============================] - 17s 168ms/step - loss: 0.0296 - acc: 0.9910 - val_loss: 0.3908 - val_acc: 0.9360\n",
            "Epoch 85/100\n",
            "100/100 [==============================] - 17s 166ms/step - loss: 0.0362 - acc: 0.9860 - val_loss: 0.3642 - val_acc: 0.9360\n",
            "Epoch 86/100\n",
            "100/100 [==============================] - 17s 169ms/step - loss: 0.0390 - acc: 0.9870 - val_loss: 0.3879 - val_acc: 0.9420\n",
            "Epoch 87/100\n",
            "100/100 [==============================] - 17s 167ms/step - loss: 0.0369 - acc: 0.9850 - val_loss: 0.4557 - val_acc: 0.9300\n",
            "Epoch 88/100\n",
            "100/100 [==============================] - 16s 165ms/step - loss: 0.0271 - acc: 0.9895 - val_loss: 0.3603 - val_acc: 0.9460\n",
            "Epoch 89/100\n",
            "100/100 [==============================] - 16s 165ms/step - loss: 0.0276 - acc: 0.9910 - val_loss: 0.3838 - val_acc: 0.9400\n",
            "Epoch 90/100\n",
            "100/100 [==============================] - 16s 164ms/step - loss: 0.0255 - acc: 0.9915 - val_loss: 0.4692 - val_acc: 0.9280\n",
            "Epoch 91/100\n",
            "100/100 [==============================] - 17s 166ms/step - loss: 0.0309 - acc: 0.9890 - val_loss: 0.3534 - val_acc: 0.9440\n",
            "Epoch 92/100\n",
            "100/100 [==============================] - 17s 166ms/step - loss: 0.0283 - acc: 0.9900 - val_loss: 0.4151 - val_acc: 0.9320\n",
            "Epoch 93/100\n",
            "100/100 [==============================] - 17s 168ms/step - loss: 0.0285 - acc: 0.9890 - val_loss: 0.4004 - val_acc: 0.9440\n",
            "Epoch 94/100\n",
            "100/100 [==============================] - 16s 164ms/step - loss: 0.0315 - acc: 0.9880 - val_loss: 0.3860 - val_acc: 0.9420\n",
            "Epoch 95/100\n",
            "100/100 [==============================] - 17s 168ms/step - loss: 0.0371 - acc: 0.9920 - val_loss: 0.4922 - val_acc: 0.9280\n",
            "Epoch 96/100\n",
            "100/100 [==============================] - 17s 170ms/step - loss: 0.0336 - acc: 0.9875 - val_loss: 0.4801 - val_acc: 0.9320\n",
            "Epoch 97/100\n",
            "100/100 [==============================] - 17s 170ms/step - loss: 0.0199 - acc: 0.9935 - val_loss: 0.3947 - val_acc: 0.9480\n",
            "Epoch 98/100\n",
            "100/100 [==============================] - 17s 170ms/step - loss: 0.0233 - acc: 0.9925 - val_loss: 0.4379 - val_acc: 0.9380\n",
            "Epoch 99/100\n",
            "100/100 [==============================] - 17s 169ms/step - loss: 0.0354 - acc: 0.9865 - val_loss: 0.4116 - val_acc: 0.9300\n",
            "Epoch 100/100\n",
            "100/100 [==============================] - 17s 171ms/step - loss: 0.0366 - acc: 0.9905 - val_loss: 0.4079 - val_acc: 0.9380\n"
          ],
          "name": "stdout"
        }
      ]
    },
    {
      "cell_type": "code",
      "metadata": {
        "id": "CBQ98rFHKQJX",
        "colab_type": "code",
        "colab": {
          "base_uri": "https://localhost:8080/",
          "height": 545
        },
        "outputId": "0169225c-730f-4654-fecf-e05e6085d2d9"
      },
      "source": [
        "plot_graphs(history_tune)"
      ],
      "execution_count": 25,
      "outputs": [
        {
          "output_type": "display_data",
          "data": {
            "image/png": "[encoded data removed]",
            "text/plain": [
              "<Figure size 432x288 with 1 Axes>"
            ]
          },
          "metadata": {
            "tags": []
          }
        },
        {
          "output_type": "display_data",
          "data": {
            "image/png": "[encoded data removed]",
            "text/plain": [
              "<Figure size 432x288 with 1 Axes>"
            ]
          },
          "metadata": {
            "tags": []
          }
        }
      ]
    },
    {
      "cell_type": "markdown",
      "metadata": {
        "id": "0xLkri0JKVfP",
        "colab_type": "text"
      },
      "source": [
        "We observe improvement in accuracy by 3%. There is no significant improve in loss though. However, the model may still be improving although it is not reflected in average loss.\n",
        "\n",
        "Finally we evaluate model on test data."
      ]
    },
    {
      "cell_type": "code",
      "metadata": {
        "id": "6VNd-5RRNFEq",
        "colab_type": "code",
        "colab": {
          "base_uri": "https://localhost:8080/",
          "height": 52
        },
        "outputId": "90633def-21a4-4871-e76b-7eddfd7420fb"
      },
      "source": [
        "test_generator = test_datagen.flow_from_directory(test_dir,\n",
        "                                                 target_size=(150,150),\n",
        "                                                 batch_size=20,\n",
        "                                                 class_mode='binary')\n",
        "\n",
        "test_loss, test_acc = model_aug.evaluate_generator(test_generator, steps=50)\n",
        "print('Accuracy on test data is: ', test_acc)"
      ],
      "execution_count": 27,
      "outputs": [
        {
          "output_type": "stream",
          "text": [
            "Found 500 images belonging to 2 classes.\n",
            "Accuracy on test data is:  0.9539999914169311\n"
          ],
          "name": "stdout"
        }
      ]
    },
    {
      "cell_type": "markdown",
      "metadata": {
        "id": "aYQvxEymgJW3",
        "colab_type": "text"
      },
      "source": [
        "We get test accuracy of 95%, which is pretty desent."
      ]
    }
  ]
}